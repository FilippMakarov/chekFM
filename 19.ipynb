{
  "nbformat": 4,
  "nbformat_minor": 0,
  "metadata": {
    "colab": {
      "provenance": [],
      "authorship_tag": "ABX9TyNmkK/pnBezkHIJ1nXmzNff",
      "include_colab_link": true
    },
    "kernelspec": {
      "name": "python3",
      "display_name": "Python 3"
    },
    "language_info": {
      "name": "python"
    }
  },
  "cells": [
    {
      "cell_type": "markdown",
      "metadata": {
        "id": "view-in-github",
        "colab_type": "text"
      },
      "source": [
        "<a href=\"https://colab.research.google.com/github/FilippMakarov/chekFM/blob/main/19.ipynb\" target=\"_parent\"><img src=\"https://colab.research.google.com/assets/colab-badge.svg\" alt=\"Open In Colab\"/></a>"
      ]
    },
    {
      "cell_type": "code",
      "source": [
        "import pandas as pd\n",
        "from sklearn.preprocessing import normalize"
      ],
      "metadata": {
        "id": "vorlK2c6_3wI"
      },
      "execution_count": 166,
      "outputs": []
    },
    {
      "cell_type": "code",
      "execution_count": 167,
      "metadata": {
        "id": "O_Hjl9G15MsR",
        "colab": {
          "base_uri": "https://localhost:8080/"
        },
        "outputId": "a970f1b1-0ee2-4dd7-ad20-ade54558c1f9"
      },
      "outputs": [
        {
          "output_type": "stream",
          "name": "stdout",
          "text": [
            "<class 'pandas.core.frame.DataFrame'>\n",
            "RangeIndex: 497 entries, 0 to 496\n",
            "Data columns (total 6 columns):\n",
            " #   Column           Non-Null Count  Dtype  \n",
            "---  ------           --------------  -----  \n",
            " 0   ObservationDate  497 non-null    object \n",
            " 1   Province/State   393 non-null    object \n",
            " 2   Country/Region   497 non-null    object \n",
            " 3   Confirmed        497 non-null    float64\n",
            " 4   Deaths           497 non-null    float64\n",
            " 5   Recovered        497 non-null    float64\n",
            "dtypes: float64(3), object(3)\n",
            "memory usage: 23.4+ KB\n"
          ]
        }
      ],
      "source": [
        "data =  pd.read_csv('datasets_825452_1489843_my_submission.csv')\n",
        "data.info()"
      ]
    },
    {
      "cell_type": "markdown",
      "source": [
        "Поиск и удаление дубликатов"
      ],
      "metadata": {
        "id": "G0tzWfBYYRoe"
      }
    },
    {
      "cell_type": "code",
      "source": [
        "data.duplicated(subset=['Province/State']) #поиск дубликатов в столбце Province/State"
      ],
      "metadata": {
        "colab": {
          "base_uri": "https://localhost:8080/"
        },
        "id": "K7aMYXl0YvQ-",
        "outputId": "270457e3-2065-4095-e87f-e2cc58ed1d83"
      },
      "execution_count": 168,
      "outputs": [
        {
          "output_type": "execute_result",
          "data": {
            "text/plain": [
              "0      False\n",
              "1      False\n",
              "2      False\n",
              "3      False\n",
              "4      False\n",
              "       ...  \n",
              "492     True\n",
              "493     True\n",
              "494     True\n",
              "495     True\n",
              "496     True\n",
              "Length: 497, dtype: bool"
            ]
          },
          "metadata": {},
          "execution_count": 168
        }
      ]
    },
    {
      "cell_type": "code",
      "source": [
        "df = data.drop_duplicates(subset=['Province/State']) # удаление дубликтатов по столбцу\n",
        "df.info()\n",
        "\n"
      ],
      "metadata": {
        "colab": {
          "base_uri": "https://localhost:8080/"
        },
        "id": "HZQZuPL5az2x",
        "outputId": "9400c589-d173-4bf4-9f18-5bb012ca01c8"
      },
      "execution_count": 169,
      "outputs": [
        {
          "output_type": "stream",
          "name": "stdout",
          "text": [
            "<class 'pandas.core.frame.DataFrame'>\n",
            "Int64Index: 46 entries, 0 to 371\n",
            "Data columns (total 6 columns):\n",
            " #   Column           Non-Null Count  Dtype  \n",
            "---  ------           --------------  -----  \n",
            " 0   ObservationDate  46 non-null     object \n",
            " 1   Province/State   45 non-null     object \n",
            " 2   Country/Region   46 non-null     object \n",
            " 3   Confirmed        46 non-null     float64\n",
            " 4   Deaths           46 non-null     float64\n",
            " 5   Recovered        46 non-null     float64\n",
            "dtypes: float64(3), object(3)\n",
            "memory usage: 2.5+ KB\n"
          ]
        }
      ]
    },
    {
      "cell_type": "code",
      "source": [
        "497-46 # Количество дубликатов в исходной таблице составило 497-46 = 451"
      ],
      "metadata": {
        "colab": {
          "base_uri": "https://localhost:8080/"
        },
        "id": "keWP3vY2ci6W",
        "outputId": "3b338070-3dfc-4857-a325-fdc32ef66e2f"
      },
      "execution_count": 170,
      "outputs": [
        {
          "output_type": "execute_result",
          "data": {
            "text/plain": [
              "451"
            ]
          },
          "metadata": {},
          "execution_count": 170
        }
      ]
    },
    {
      "cell_type": "markdown",
      "source": [
        "Разделение объединение таблицы"
      ],
      "metadata": {
        "id": "C-DhunTCcLNx"
      }
    },
    {
      "cell_type": "code",
      "source": [
        "df1 = df.iloc[:23, :] # Выберем первые 23 строчек и все столбцы\n",
        "df2 = df.iloc[23:, :] # Выберем последующие строчки после 23 и все столбцы\n"
      ],
      "metadata": {
        "id": "o1fMEKWYcobH"
      },
      "execution_count": 171,
      "outputs": []
    },
    {
      "cell_type": "code",
      "source": [
        "df1.info()"
      ],
      "metadata": {
        "colab": {
          "base_uri": "https://localhost:8080/"
        },
        "id": "Rx9_N-_lh2tC",
        "outputId": "5e583918-2a42-4206-9822-e9b66e2abee5"
      },
      "execution_count": 172,
      "outputs": [
        {
          "output_type": "stream",
          "name": "stdout",
          "text": [
            "<class 'pandas.core.frame.DataFrame'>\n",
            "Int64Index: 23 entries, 0 to 22\n",
            "Data columns (total 6 columns):\n",
            " #   Column           Non-Null Count  Dtype  \n",
            "---  ------           --------------  -----  \n",
            " 0   ObservationDate  23 non-null     object \n",
            " 1   Province/State   23 non-null     object \n",
            " 2   Country/Region   23 non-null     object \n",
            " 3   Confirmed        23 non-null     float64\n",
            " 4   Deaths           23 non-null     float64\n",
            " 5   Recovered        23 non-null     float64\n",
            "dtypes: float64(3), object(3)\n",
            "memory usage: 1.3+ KB\n"
          ]
        }
      ]
    },
    {
      "cell_type": "code",
      "source": [
        "df2.info()"
      ],
      "metadata": {
        "colab": {
          "base_uri": "https://localhost:8080/"
        },
        "id": "ufHMqNDrh8Lw",
        "outputId": "91e190ef-222c-4a5f-b0a6-53a8b341072b"
      },
      "execution_count": 173,
      "outputs": [
        {
          "output_type": "stream",
          "name": "stdout",
          "text": [
            "<class 'pandas.core.frame.DataFrame'>\n",
            "Int64Index: 23 entries, 23 to 371\n",
            "Data columns (total 6 columns):\n",
            " #   Column           Non-Null Count  Dtype  \n",
            "---  ------           --------------  -----  \n",
            " 0   ObservationDate  23 non-null     object \n",
            " 1   Province/State   22 non-null     object \n",
            " 2   Country/Region   23 non-null     object \n",
            " 3   Confirmed        23 non-null     float64\n",
            " 4   Deaths           23 non-null     float64\n",
            " 5   Recovered        23 non-null     float64\n",
            "dtypes: float64(3), object(3)\n",
            "memory usage: 1.3+ KB\n"
          ]
        }
      ]
    },
    {
      "cell_type": "code",
      "source": [
        "result1 = pd.merge(df1, df2, on='ObservationDate', how='inner') # объеденение таблиц по способу inner\n",
        "result1.info()"
      ],
      "metadata": {
        "colab": {
          "base_uri": "https://localhost:8080/"
        },
        "id": "wmpIcOlPjDj9",
        "outputId": "eef263d8-7349-4fc8-fef9-f3732f01fc4e"
      },
      "execution_count": 174,
      "outputs": [
        {
          "output_type": "stream",
          "name": "stdout",
          "text": [
            "<class 'pandas.core.frame.DataFrame'>\n",
            "Int64Index: 299 entries, 0 to 298\n",
            "Data columns (total 11 columns):\n",
            " #   Column            Non-Null Count  Dtype  \n",
            "---  ------            --------------  -----  \n",
            " 0   ObservationDate   299 non-null    object \n",
            " 1   Province/State_x  299 non-null    object \n",
            " 2   Country/Region_x  299 non-null    object \n",
            " 3   Confirmed_x       299 non-null    float64\n",
            " 4   Deaths_x          299 non-null    float64\n",
            " 5   Recovered_x       299 non-null    float64\n",
            " 6   Province/State_y  276 non-null    object \n",
            " 7   Country/Region_y  299 non-null    object \n",
            " 8   Confirmed_y       299 non-null    float64\n",
            " 9   Deaths_y          299 non-null    float64\n",
            " 10  Recovered_y       299 non-null    float64\n",
            "dtypes: float64(6), object(5)\n",
            "memory usage: 28.0+ KB\n"
          ]
        }
      ]
    },
    {
      "cell_type": "code",
      "source": [
        "result2 = pd.merge(df1, df2, on='ObservationDate', how='left') # объеденение таблиц по способу left\n",
        "result2.info()"
      ],
      "metadata": {
        "colab": {
          "base_uri": "https://localhost:8080/"
        },
        "id": "GiLIcW_-lMlx",
        "outputId": "73529f62-20e7-4665-9412-12caaaa36836"
      },
      "execution_count": 175,
      "outputs": [
        {
          "output_type": "stream",
          "name": "stdout",
          "text": [
            "<class 'pandas.core.frame.DataFrame'>\n",
            "Int64Index: 299 entries, 0 to 298\n",
            "Data columns (total 11 columns):\n",
            " #   Column            Non-Null Count  Dtype  \n",
            "---  ------            --------------  -----  \n",
            " 0   ObservationDate   299 non-null    object \n",
            " 1   Province/State_x  299 non-null    object \n",
            " 2   Country/Region_x  299 non-null    object \n",
            " 3   Confirmed_x       299 non-null    float64\n",
            " 4   Deaths_x          299 non-null    float64\n",
            " 5   Recovered_x       299 non-null    float64\n",
            " 6   Province/State_y  276 non-null    object \n",
            " 7   Country/Region_y  299 non-null    object \n",
            " 8   Confirmed_y       299 non-null    float64\n",
            " 9   Deaths_y          299 non-null    float64\n",
            " 10  Recovered_y       299 non-null    float64\n",
            "dtypes: float64(6), object(5)\n",
            "memory usage: 28.0+ KB\n"
          ]
        }
      ]
    },
    {
      "cell_type": "code",
      "source": [
        "result3 = pd.merge(df1, df2, on='ObservationDate', how='right') # объеденение таблиц по способу right\n",
        "result3.info()"
      ],
      "metadata": {
        "colab": {
          "base_uri": "https://localhost:8080/"
        },
        "id": "Sw0KD_AAmiiw",
        "outputId": "6670bc91-fab0-4da6-d622-19c17ab3aab2"
      },
      "execution_count": 176,
      "outputs": [
        {
          "output_type": "stream",
          "name": "stdout",
          "text": [
            "<class 'pandas.core.frame.DataFrame'>\n",
            "Int64Index: 309 entries, 0 to 308\n",
            "Data columns (total 11 columns):\n",
            " #   Column            Non-Null Count  Dtype  \n",
            "---  ------            --------------  -----  \n",
            " 0   ObservationDate   309 non-null    object \n",
            " 1   Province/State_x  299 non-null    object \n",
            " 2   Country/Region_x  299 non-null    object \n",
            " 3   Confirmed_x       299 non-null    float64\n",
            " 4   Deaths_x          299 non-null    float64\n",
            " 5   Recovered_x       299 non-null    float64\n",
            " 6   Province/State_y  286 non-null    object \n",
            " 7   Country/Region_y  309 non-null    object \n",
            " 8   Confirmed_y       309 non-null    float64\n",
            " 9   Deaths_y          309 non-null    float64\n",
            " 10  Recovered_y       309 non-null    float64\n",
            "dtypes: float64(6), object(5)\n",
            "memory usage: 29.0+ KB\n"
          ]
        }
      ]
    },
    {
      "cell_type": "code",
      "source": [
        "result4 = pd.merge(df1, df2, on='ObservationDate', how='outer') # объеденение таблиц по способу outer\n",
        "result4.info()"
      ],
      "metadata": {
        "colab": {
          "base_uri": "https://localhost:8080/"
        },
        "id": "jMCVvMyfmqXd",
        "outputId": "81349f32-9452-4938-8d4f-82cb98a3d94e"
      },
      "execution_count": 177,
      "outputs": [
        {
          "output_type": "stream",
          "name": "stdout",
          "text": [
            "<class 'pandas.core.frame.DataFrame'>\n",
            "Int64Index: 309 entries, 0 to 308\n",
            "Data columns (total 11 columns):\n",
            " #   Column            Non-Null Count  Dtype  \n",
            "---  ------            --------------  -----  \n",
            " 0   ObservationDate   309 non-null    object \n",
            " 1   Province/State_x  299 non-null    object \n",
            " 2   Country/Region_x  299 non-null    object \n",
            " 3   Confirmed_x       299 non-null    float64\n",
            " 4   Deaths_x          299 non-null    float64\n",
            " 5   Recovered_x       299 non-null    float64\n",
            " 6   Province/State_y  286 non-null    object \n",
            " 7   Country/Region_y  309 non-null    object \n",
            " 8   Confirmed_y       309 non-null    float64\n",
            " 9   Deaths_y          309 non-null    float64\n",
            " 10  Recovered_y       309 non-null    float64\n",
            "dtypes: float64(6), object(5)\n",
            "memory usage: 29.0+ KB\n"
          ]
        }
      ]
    },
    {
      "cell_type": "markdown",
      "source": [
        "Нормализация данных"
      ],
      "metadata": {
        "id": "w6V_ki0My9NR"
      }
    },
    {
      "cell_type": "code",
      "source": [
        "datafornorm = data.iloc[:, 3:] # для нормализации создадим таблицу содержащую только лишь числа\n",
        "normalized_data = normalize(datafornorm, norm='l2', axis=1)\n",
        "normalized_data\n"
      ],
      "metadata": {
        "colab": {
          "base_uri": "https://localhost:8080/"
        },
        "id": "O0OFiPRgzCE_",
        "outputId": "3785952b-d3cc-4db4-ba6e-2fe9c6f91edb"
      },
      "execution_count": 178,
      "outputs": [
        {
          "output_type": "execute_result",
          "data": {
            "text/plain": [
              "array([[1., 0., 0.],\n",
              "       [1., 0., 0.],\n",
              "       [1., 0., 0.],\n",
              "       ...,\n",
              "       [1., 0., 0.],\n",
              "       [1., 0., 0.],\n",
              "       [1., 0., 0.]])"
            ]
          },
          "metadata": {},
          "execution_count": 178
        }
      ]
    },
    {
      "cell_type": "markdown",
      "source": [
        "определить процент пропусков, удалить их или заменить"
      ],
      "metadata": {
        "id": "mrusJkIB06m1"
      }
    },
    {
      "cell_type": "code",
      "source": [
        "percent = (data.isnull().sum() / len(data)) * 100 # расчёт процента пропусков\n",
        "print(percent)"
      ],
      "metadata": {
        "colab": {
          "base_uri": "https://localhost:8080/"
        },
        "id": "AtvaXcQU1LrF",
        "outputId": "ba2705f6-074e-44ba-dfc2-4a25b2f70008"
      },
      "execution_count": 179,
      "outputs": [
        {
          "output_type": "stream",
          "name": "stdout",
          "text": [
            "ObservationDate     0.000000\n",
            "Province/State     20.925553\n",
            "Country/Region      0.000000\n",
            "Confirmed           0.000000\n",
            "Deaths              0.000000\n",
            "Recovered           0.000000\n",
            "dtype: float64\n"
          ]
        }
      ]
    },
    {
      "cell_type": "markdown",
      "source": [
        "пропусков более чем 5%, необходимо заменять пропуски на данные. Поскольку пропуски встречаются только в столбце Province/State, а заполнять этот столбик самым встречающимся словом не корректно, заполним Unknown"
      ],
      "metadata": {
        "id": "be0oib_O16ac"
      }
    },
    {
      "cell_type": "code",
      "source": [
        "data['Province/State'] = data['Province/State'].fillna(\"Unknown\")\n",
        "data"
      ],
      "metadata": {
        "colab": {
          "base_uri": "https://localhost:8080/",
          "height": 423
        },
        "id": "jlNMSRIa8n3-",
        "outputId": "2ca17020-b6e0-424c-ac84-b19eb6319473"
      },
      "execution_count": 181,
      "outputs": [
        {
          "output_type": "execute_result",
          "data": {
            "text/plain": [
              "    ObservationDate Province/State Country/Region  Confirmed  Deaths  \\\n",
              "0        2020-03-22          Anhui          China        2.0     0.0   \n",
              "1        2020-03-22        Beijing          China       28.0     0.0   \n",
              "2        2020-03-22      Chongqing          China       12.0     0.0   \n",
              "3        2020-03-22         Fujian          China        2.0     0.0   \n",
              "4        2020-03-22          Gansu          China        0.0     0.0   \n",
              "..              ...            ...            ...        ...     ...   \n",
              "492      2020-03-31        Unknown          Italy        4.0     0.0   \n",
              "493      2020-03-31        Unknown         Sweden        2.0     0.0   \n",
              "494      2020-03-31        Unknown         Russia        4.0     0.0   \n",
              "495      2020-03-31        Unknown          Spain        2.0     0.0   \n",
              "496      2020-03-31        Unknown             UK        4.0     0.0   \n",
              "\n",
              "     Recovered  \n",
              "0          0.0  \n",
              "1          0.0  \n",
              "2          0.0  \n",
              "3          0.0  \n",
              "4          0.0  \n",
              "..         ...  \n",
              "492        0.0  \n",
              "493        0.0  \n",
              "494        0.0  \n",
              "495        0.0  \n",
              "496        0.0  \n",
              "\n",
              "[497 rows x 6 columns]"
            ],
            "text/html": [
              "\n",
              "  <div id=\"df-6df35f4b-6e71-47ee-bd9b-72eb4e40b048\" class=\"colab-df-container\">\n",
              "    <div>\n",
              "<style scoped>\n",
              "    .dataframe tbody tr th:only-of-type {\n",
              "        vertical-align: middle;\n",
              "    }\n",
              "\n",
              "    .dataframe tbody tr th {\n",
              "        vertical-align: top;\n",
              "    }\n",
              "\n",
              "    .dataframe thead th {\n",
              "        text-align: right;\n",
              "    }\n",
              "</style>\n",
              "<table border=\"1\" class=\"dataframe\">\n",
              "  <thead>\n",
              "    <tr style=\"text-align: right;\">\n",
              "      <th></th>\n",
              "      <th>ObservationDate</th>\n",
              "      <th>Province/State</th>\n",
              "      <th>Country/Region</th>\n",
              "      <th>Confirmed</th>\n",
              "      <th>Deaths</th>\n",
              "      <th>Recovered</th>\n",
              "    </tr>\n",
              "  </thead>\n",
              "  <tbody>\n",
              "    <tr>\n",
              "      <th>0</th>\n",
              "      <td>2020-03-22</td>\n",
              "      <td>Anhui</td>\n",
              "      <td>China</td>\n",
              "      <td>2.0</td>\n",
              "      <td>0.0</td>\n",
              "      <td>0.0</td>\n",
              "    </tr>\n",
              "    <tr>\n",
              "      <th>1</th>\n",
              "      <td>2020-03-22</td>\n",
              "      <td>Beijing</td>\n",
              "      <td>China</td>\n",
              "      <td>28.0</td>\n",
              "      <td>0.0</td>\n",
              "      <td>0.0</td>\n",
              "    </tr>\n",
              "    <tr>\n",
              "      <th>2</th>\n",
              "      <td>2020-03-22</td>\n",
              "      <td>Chongqing</td>\n",
              "      <td>China</td>\n",
              "      <td>12.0</td>\n",
              "      <td>0.0</td>\n",
              "      <td>0.0</td>\n",
              "    </tr>\n",
              "    <tr>\n",
              "      <th>3</th>\n",
              "      <td>2020-03-22</td>\n",
              "      <td>Fujian</td>\n",
              "      <td>China</td>\n",
              "      <td>2.0</td>\n",
              "      <td>0.0</td>\n",
              "      <td>0.0</td>\n",
              "    </tr>\n",
              "    <tr>\n",
              "      <th>4</th>\n",
              "      <td>2020-03-22</td>\n",
              "      <td>Gansu</td>\n",
              "      <td>China</td>\n",
              "      <td>0.0</td>\n",
              "      <td>0.0</td>\n",
              "      <td>0.0</td>\n",
              "    </tr>\n",
              "    <tr>\n",
              "      <th>...</th>\n",
              "      <td>...</td>\n",
              "      <td>...</td>\n",
              "      <td>...</td>\n",
              "      <td>...</td>\n",
              "      <td>...</td>\n",
              "      <td>...</td>\n",
              "    </tr>\n",
              "    <tr>\n",
              "      <th>492</th>\n",
              "      <td>2020-03-31</td>\n",
              "      <td>Unknown</td>\n",
              "      <td>Italy</td>\n",
              "      <td>4.0</td>\n",
              "      <td>0.0</td>\n",
              "      <td>0.0</td>\n",
              "    </tr>\n",
              "    <tr>\n",
              "      <th>493</th>\n",
              "      <td>2020-03-31</td>\n",
              "      <td>Unknown</td>\n",
              "      <td>Sweden</td>\n",
              "      <td>2.0</td>\n",
              "      <td>0.0</td>\n",
              "      <td>0.0</td>\n",
              "    </tr>\n",
              "    <tr>\n",
              "      <th>494</th>\n",
              "      <td>2020-03-31</td>\n",
              "      <td>Unknown</td>\n",
              "      <td>Russia</td>\n",
              "      <td>4.0</td>\n",
              "      <td>0.0</td>\n",
              "      <td>0.0</td>\n",
              "    </tr>\n",
              "    <tr>\n",
              "      <th>495</th>\n",
              "      <td>2020-03-31</td>\n",
              "      <td>Unknown</td>\n",
              "      <td>Spain</td>\n",
              "      <td>2.0</td>\n",
              "      <td>0.0</td>\n",
              "      <td>0.0</td>\n",
              "    </tr>\n",
              "    <tr>\n",
              "      <th>496</th>\n",
              "      <td>2020-03-31</td>\n",
              "      <td>Unknown</td>\n",
              "      <td>UK</td>\n",
              "      <td>4.0</td>\n",
              "      <td>0.0</td>\n",
              "      <td>0.0</td>\n",
              "    </tr>\n",
              "  </tbody>\n",
              "</table>\n",
              "<p>497 rows × 6 columns</p>\n",
              "</div>\n",
              "    <div class=\"colab-df-buttons\">\n",
              "\n",
              "  <div class=\"colab-df-container\">\n",
              "    <button class=\"colab-df-convert\" onclick=\"convertToInteractive('df-6df35f4b-6e71-47ee-bd9b-72eb4e40b048')\"\n",
              "            title=\"Convert this dataframe to an interactive table.\"\n",
              "            style=\"display:none;\">\n",
              "\n",
              "  <svg xmlns=\"http://www.w3.org/2000/svg\" height=\"24px\" viewBox=\"0 -960 960 960\">\n",
              "    <path d=\"M120-120v-720h720v720H120Zm60-500h600v-160H180v160Zm220 220h160v-160H400v160Zm0 220h160v-160H400v160ZM180-400h160v-160H180v160Zm440 0h160v-160H620v160ZM180-180h160v-160H180v160Zm440 0h160v-160H620v160Z\"/>\n",
              "  </svg>\n",
              "    </button>\n",
              "\n",
              "  <style>\n",
              "    .colab-df-container {\n",
              "      display:flex;\n",
              "      gap: 12px;\n",
              "    }\n",
              "\n",
              "    .colab-df-convert {\n",
              "      background-color: #E8F0FE;\n",
              "      border: none;\n",
              "      border-radius: 50%;\n",
              "      cursor: pointer;\n",
              "      display: none;\n",
              "      fill: #1967D2;\n",
              "      height: 32px;\n",
              "      padding: 0 0 0 0;\n",
              "      width: 32px;\n",
              "    }\n",
              "\n",
              "    .colab-df-convert:hover {\n",
              "      background-color: #E2EBFA;\n",
              "      box-shadow: 0px 1px 2px rgba(60, 64, 67, 0.3), 0px 1px 3px 1px rgba(60, 64, 67, 0.15);\n",
              "      fill: #174EA6;\n",
              "    }\n",
              "\n",
              "    .colab-df-buttons div {\n",
              "      margin-bottom: 4px;\n",
              "    }\n",
              "\n",
              "    [theme=dark] .colab-df-convert {\n",
              "      background-color: #3B4455;\n",
              "      fill: #D2E3FC;\n",
              "    }\n",
              "\n",
              "    [theme=dark] .colab-df-convert:hover {\n",
              "      background-color: #434B5C;\n",
              "      box-shadow: 0px 1px 3px 1px rgba(0, 0, 0, 0.15);\n",
              "      filter: drop-shadow(0px 1px 2px rgba(0, 0, 0, 0.3));\n",
              "      fill: #FFFFFF;\n",
              "    }\n",
              "  </style>\n",
              "\n",
              "    <script>\n",
              "      const buttonEl =\n",
              "        document.querySelector('#df-6df35f4b-6e71-47ee-bd9b-72eb4e40b048 button.colab-df-convert');\n",
              "      buttonEl.style.display =\n",
              "        google.colab.kernel.accessAllowed ? 'block' : 'none';\n",
              "\n",
              "      async function convertToInteractive(key) {\n",
              "        const element = document.querySelector('#df-6df35f4b-6e71-47ee-bd9b-72eb4e40b048');\n",
              "        const dataTable =\n",
              "          await google.colab.kernel.invokeFunction('convertToInteractive',\n",
              "                                                    [key], {});\n",
              "        if (!dataTable) return;\n",
              "\n",
              "        const docLinkHtml = 'Like what you see? Visit the ' +\n",
              "          '<a target=\"_blank\" href=https://colab.research.google.com/notebooks/data_table.ipynb>data table notebook</a>'\n",
              "          + ' to learn more about interactive tables.';\n",
              "        element.innerHTML = '';\n",
              "        dataTable['output_type'] = 'display_data';\n",
              "        await google.colab.output.renderOutput(dataTable, element);\n",
              "        const docLink = document.createElement('div');\n",
              "        docLink.innerHTML = docLinkHtml;\n",
              "        element.appendChild(docLink);\n",
              "      }\n",
              "    </script>\n",
              "  </div>\n",
              "\n",
              "\n",
              "<div id=\"df-6204fcdc-9308-43ed-bb07-9bd5000a5cd9\">\n",
              "  <button class=\"colab-df-quickchart\" onclick=\"quickchart('df-6204fcdc-9308-43ed-bb07-9bd5000a5cd9')\"\n",
              "            title=\"Suggest charts.\"\n",
              "            style=\"display:none;\">\n",
              "\n",
              "<svg xmlns=\"http://www.w3.org/2000/svg\" height=\"24px\"viewBox=\"0 0 24 24\"\n",
              "     width=\"24px\">\n",
              "    <g>\n",
              "        <path d=\"M19 3H5c-1.1 0-2 .9-2 2v14c0 1.1.9 2 2 2h14c1.1 0 2-.9 2-2V5c0-1.1-.9-2-2-2zM9 17H7v-7h2v7zm4 0h-2V7h2v10zm4 0h-2v-4h2v4z\"/>\n",
              "    </g>\n",
              "</svg>\n",
              "  </button>\n",
              "\n",
              "<style>\n",
              "  .colab-df-quickchart {\n",
              "      --bg-color: #E8F0FE;\n",
              "      --fill-color: #1967D2;\n",
              "      --hover-bg-color: #E2EBFA;\n",
              "      --hover-fill-color: #174EA6;\n",
              "      --disabled-fill-color: #AAA;\n",
              "      --disabled-bg-color: #DDD;\n",
              "  }\n",
              "\n",
              "  [theme=dark] .colab-df-quickchart {\n",
              "      --bg-color: #3B4455;\n",
              "      --fill-color: #D2E3FC;\n",
              "      --hover-bg-color: #434B5C;\n",
              "      --hover-fill-color: #FFFFFF;\n",
              "      --disabled-bg-color: #3B4455;\n",
              "      --disabled-fill-color: #666;\n",
              "  }\n",
              "\n",
              "  .colab-df-quickchart {\n",
              "    background-color: var(--bg-color);\n",
              "    border: none;\n",
              "    border-radius: 50%;\n",
              "    cursor: pointer;\n",
              "    display: none;\n",
              "    fill: var(--fill-color);\n",
              "    height: 32px;\n",
              "    padding: 0;\n",
              "    width: 32px;\n",
              "  }\n",
              "\n",
              "  .colab-df-quickchart:hover {\n",
              "    background-color: var(--hover-bg-color);\n",
              "    box-shadow: 0 1px 2px rgba(60, 64, 67, 0.3), 0 1px 3px 1px rgba(60, 64, 67, 0.15);\n",
              "    fill: var(--button-hover-fill-color);\n",
              "  }\n",
              "\n",
              "  .colab-df-quickchart-complete:disabled,\n",
              "  .colab-df-quickchart-complete:disabled:hover {\n",
              "    background-color: var(--disabled-bg-color);\n",
              "    fill: var(--disabled-fill-color);\n",
              "    box-shadow: none;\n",
              "  }\n",
              "\n",
              "  .colab-df-spinner {\n",
              "    border: 2px solid var(--fill-color);\n",
              "    border-color: transparent;\n",
              "    border-bottom-color: var(--fill-color);\n",
              "    animation:\n",
              "      spin 1s steps(1) infinite;\n",
              "  }\n",
              "\n",
              "  @keyframes spin {\n",
              "    0% {\n",
              "      border-color: transparent;\n",
              "      border-bottom-color: var(--fill-color);\n",
              "      border-left-color: var(--fill-color);\n",
              "    }\n",
              "    20% {\n",
              "      border-color: transparent;\n",
              "      border-left-color: var(--fill-color);\n",
              "      border-top-color: var(--fill-color);\n",
              "    }\n",
              "    30% {\n",
              "      border-color: transparent;\n",
              "      border-left-color: var(--fill-color);\n",
              "      border-top-color: var(--fill-color);\n",
              "      border-right-color: var(--fill-color);\n",
              "    }\n",
              "    40% {\n",
              "      border-color: transparent;\n",
              "      border-right-color: var(--fill-color);\n",
              "      border-top-color: var(--fill-color);\n",
              "    }\n",
              "    60% {\n",
              "      border-color: transparent;\n",
              "      border-right-color: var(--fill-color);\n",
              "    }\n",
              "    80% {\n",
              "      border-color: transparent;\n",
              "      border-right-color: var(--fill-color);\n",
              "      border-bottom-color: var(--fill-color);\n",
              "    }\n",
              "    90% {\n",
              "      border-color: transparent;\n",
              "      border-bottom-color: var(--fill-color);\n",
              "    }\n",
              "  }\n",
              "</style>\n",
              "\n",
              "  <script>\n",
              "    async function quickchart(key) {\n",
              "      const quickchartButtonEl =\n",
              "        document.querySelector('#' + key + ' button');\n",
              "      quickchartButtonEl.disabled = true;  // To prevent multiple clicks.\n",
              "      quickchartButtonEl.classList.add('colab-df-spinner');\n",
              "      try {\n",
              "        const charts = await google.colab.kernel.invokeFunction(\n",
              "            'suggestCharts', [key], {});\n",
              "      } catch (error) {\n",
              "        console.error('Error during call to suggestCharts:', error);\n",
              "      }\n",
              "      quickchartButtonEl.classList.remove('colab-df-spinner');\n",
              "      quickchartButtonEl.classList.add('colab-df-quickchart-complete');\n",
              "    }\n",
              "    (() => {\n",
              "      let quickchartButtonEl =\n",
              "        document.querySelector('#df-6204fcdc-9308-43ed-bb07-9bd5000a5cd9 button');\n",
              "      quickchartButtonEl.style.display =\n",
              "        google.colab.kernel.accessAllowed ? 'block' : 'none';\n",
              "    })();\n",
              "  </script>\n",
              "</div>\n",
              "    </div>\n",
              "  </div>\n"
            ]
          },
          "metadata": {},
          "execution_count": 181
        }
      ]
    },
    {
      "cell_type": "code",
      "source": [
        "percent2 = (data.isnull().sum() / len(data)) * 100 # расчёт процента пропусков проверка\n",
        "print(percent2)"
      ],
      "metadata": {
        "colab": {
          "base_uri": "https://localhost:8080/"
        },
        "id": "i-Elds-bABEF",
        "outputId": "456cbed7-126b-462a-ee68-310161339f3c"
      },
      "execution_count": 182,
      "outputs": [
        {
          "output_type": "stream",
          "name": "stdout",
          "text": [
            "ObservationDate    0.0\n",
            "Province/State     0.0\n",
            "Country/Region     0.0\n",
            "Confirmed          0.0\n",
            "Deaths             0.0\n",
            "Recovered          0.0\n",
            "dtype: float64\n"
          ]
        }
      ]
    }
  ]
}