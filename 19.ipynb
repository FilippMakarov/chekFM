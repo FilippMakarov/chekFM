{
  "nbformat": 4,
  "nbformat_minor": 0,
  "metadata": {
    "colab": {
      "provenance": [],
      "authorship_tag": "ABX9TyO8LruhtwBgBAgweRCuPq39",
      "include_colab_link": true
    },
    "kernelspec": {
      "name": "python3",
      "display_name": "Python 3"
    },
    "language_info": {
      "name": "python"
    }
  },
  "cells": [
    {
      "cell_type": "markdown",
      "metadata": {
        "id": "view-in-github",
        "colab_type": "text"
      },
      "source": [
        "<a href=\"https://colab.research.google.com/github/FilippMakarov/chekFM/blob/main/19.ipynb\" target=\"_parent\"><img src=\"https://colab.research.google.com/assets/colab-badge.svg\" alt=\"Open In Colab\"/></a>"
      ]
    },
    {
      "cell_type": "code",
      "source": [
        "import pandas as pd\n",
        "from sklearn.preprocessing import normalize"
      ],
      "metadata": {
        "id": "vorlK2c6_3wI"
      },
      "execution_count": 1,
      "outputs": []
    },
    {
      "cell_type": "code",
      "execution_count": 30,
      "metadata": {
        "id": "O_Hjl9G15MsR",
        "colab": {
          "base_uri": "https://localhost:8080/"
        },
        "outputId": "5115aa80-1a2b-4eb5-aae4-26eb6f0251ca"
      },
      "outputs": [
        {
          "output_type": "execute_result",
          "data": {
            "text/plain": [
              "ObservationDate    2020-03-22\n",
              "Province/State      Guangdong\n",
              "Country/Region          China\n",
              "Confirmed                52.0\n",
              "Deaths                    0.0\n",
              "Recovered                 0.0\n",
              "Name: 5, dtype: object"
            ]
          },
          "metadata": {},
          "execution_count": 30
        }
      ],
      "source": [
        "data =  pd.read_csv('datasets_825452_1489843_my_submission.csv')\n",
        "data.loc[5]"
      ]
    },
    {
      "cell_type": "markdown",
      "source": [
        "Поиск и удаление дубликатов"
      ],
      "metadata": {
        "id": "G0tzWfBYYRoe"
      }
    },
    {
      "cell_type": "code",
      "source": [
        "data.duplicated(subset=['Province/State']) #поиск дубликатов в столбце Province/State"
      ],
      "metadata": {
        "colab": {
          "base_uri": "https://localhost:8080/"
        },
        "id": "K7aMYXl0YvQ-",
        "outputId": "3c186e7e-8ee9-4060-a893-edeea8738389"
      },
      "execution_count": 33,
      "outputs": [
        {
          "output_type": "execute_result",
          "data": {
            "text/plain": [
              "0      False\n",
              "1      False\n",
              "2      False\n",
              "3      False\n",
              "4      False\n",
              "       ...  \n",
              "492     True\n",
              "493     True\n",
              "494     True\n",
              "495     True\n",
              "496     True\n",
              "Length: 497, dtype: bool"
            ]
          },
          "metadata": {},
          "execution_count": 33
        }
      ]
    },
    {
      "cell_type": "code",
      "source": [
        "df = data.drop_duplicates(subset=['Province/State']) # удаление дубликтатов по столбцу\n",
        "df.info()\n"
      ],
      "metadata": {
        "colab": {
          "base_uri": "https://localhost:8080/"
        },
        "id": "HZQZuPL5az2x",
        "outputId": "687fecde-f989-4320-a8e1-d6de12d00c38"
      },
      "execution_count": 31,
      "outputs": [
        {
          "output_type": "stream",
          "name": "stdout",
          "text": [
            "<class 'pandas.core.frame.DataFrame'>\n",
            "Int64Index: 46 entries, 0 to 371\n",
            "Data columns (total 6 columns):\n",
            " #   Column           Non-Null Count  Dtype  \n",
            "---  ------           --------------  -----  \n",
            " 0   ObservationDate  46 non-null     object \n",
            " 1   Province/State   45 non-null     object \n",
            " 2   Country/Region   46 non-null     object \n",
            " 3   Confirmed        46 non-null     float64\n",
            " 4   Deaths           46 non-null     float64\n",
            " 5   Recovered        46 non-null     float64\n",
            "dtypes: float64(3), object(3)\n",
            "memory usage: 2.5+ KB\n"
          ]
        }
      ]
    },
    {
      "cell_type": "code",
      "source": [
        "497-371"
      ],
      "metadata": {
        "colab": {
          "base_uri": "https://localhost:8080/"
        },
        "id": "keWP3vY2ci6W",
        "outputId": "f703f589-8e6b-4d6f-c4d0-6c892653b398"
      },
      "execution_count": 36,
      "outputs": [
        {
          "output_type": "execute_result",
          "data": {
            "text/plain": [
              "126"
            ]
          },
          "metadata": {},
          "execution_count": 36
        }
      ]
    },
    {
      "cell_type": "markdown",
      "source": [
        "Количество дубликатов в исходной таблице составило 497-371 = 126"
      ],
      "metadata": {
        "id": "C-DhunTCcLNx"
      }
    },
    {
      "cell_type": "code",
      "source": [],
      "metadata": {
        "id": "o1fMEKWYcobH"
      },
      "execution_count": null,
      "outputs": []
    }
  ]
}