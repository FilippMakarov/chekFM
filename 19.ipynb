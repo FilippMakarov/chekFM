{
  "nbformat": 4,
  "nbformat_minor": 0,
  "metadata": {
    "colab": {
      "provenance": [],
      "authorship_tag": "ABX9TyObQJNoa0j2N8WL9HOnqS1/",
      "include_colab_link": true
    },
    "kernelspec": {
      "name": "python3",
      "display_name": "Python 3"
    },
    "language_info": {
      "name": "python"
    }
  },
  "cells": [
    {
      "cell_type": "markdown",
      "metadata": {
        "id": "view-in-github",
        "colab_type": "text"
      },
      "source": [
        "<a href=\"https://colab.research.google.com/github/FilippMakarov/chekFM/blob/main/19.ipynb\" target=\"_parent\"><img src=\"https://colab.research.google.com/assets/colab-badge.svg\" alt=\"Open In Colab\"/></a>"
      ]
    },
    {
      "cell_type": "code",
      "source": [
        "import pandas as pd\n",
        "from sklearn.preprocessing import normalize"
      ],
      "metadata": {
        "id": "vorlK2c6_3wI"
      },
      "execution_count": 76,
      "outputs": []
    },
    {
      "cell_type": "code",
      "execution_count": 77,
      "metadata": {
        "id": "O_Hjl9G15MsR",
        "colab": {
          "base_uri": "https://localhost:8080/"
        },
        "outputId": "4c6688db-0b26-4e99-9bc1-d5a7c2a704b1"
      },
      "outputs": [
        {
          "output_type": "stream",
          "name": "stdout",
          "text": [
            "<class 'pandas.core.frame.DataFrame'>\n",
            "RangeIndex: 497 entries, 0 to 496\n",
            "Data columns (total 6 columns):\n",
            " #   Column           Non-Null Count  Dtype  \n",
            "---  ------           --------------  -----  \n",
            " 0   ObservationDate  497 non-null    object \n",
            " 1   Province/State   393 non-null    object \n",
            " 2   Country/Region   497 non-null    object \n",
            " 3   Confirmed        497 non-null    float64\n",
            " 4   Deaths           497 non-null    float64\n",
            " 5   Recovered        497 non-null    float64\n",
            "dtypes: float64(3), object(3)\n",
            "memory usage: 23.4+ KB\n"
          ]
        }
      ],
      "source": [
        "data =  pd.read_csv('datasets_825452_1489843_my_submission.csv')\n",
        "data.info()"
      ]
    },
    {
      "cell_type": "markdown",
      "source": [
        "Поиск и удаление дубликатов"
      ],
      "metadata": {
        "id": "G0tzWfBYYRoe"
      }
    },
    {
      "cell_type": "code",
      "source": [
        "data.duplicated(subset=['Province/State']) #поиск дубликатов в столбце Province/State"
      ],
      "metadata": {
        "colab": {
          "base_uri": "https://localhost:8080/"
        },
        "id": "K7aMYXl0YvQ-",
        "outputId": "2d84691e-13af-4e0e-814b-55c43b44041f"
      },
      "execution_count": 78,
      "outputs": [
        {
          "output_type": "execute_result",
          "data": {
            "text/plain": [
              "0      False\n",
              "1      False\n",
              "2      False\n",
              "3      False\n",
              "4      False\n",
              "       ...  \n",
              "492     True\n",
              "493     True\n",
              "494     True\n",
              "495     True\n",
              "496     True\n",
              "Length: 497, dtype: bool"
            ]
          },
          "metadata": {},
          "execution_count": 78
        }
      ]
    },
    {
      "cell_type": "code",
      "source": [
        "df = data.drop_duplicates(subset=['Province/State']) # удаление дубликтатов по столбцу\n",
        "df.info()\n",
        "\n"
      ],
      "metadata": {
        "colab": {
          "base_uri": "https://localhost:8080/"
        },
        "id": "HZQZuPL5az2x",
        "outputId": "fcf4988c-a29b-4ef5-b77c-634c4fd134d4"
      },
      "execution_count": 79,
      "outputs": [
        {
          "output_type": "stream",
          "name": "stdout",
          "text": [
            "<class 'pandas.core.frame.DataFrame'>\n",
            "Int64Index: 46 entries, 0 to 371\n",
            "Data columns (total 6 columns):\n",
            " #   Column           Non-Null Count  Dtype  \n",
            "---  ------           --------------  -----  \n",
            " 0   ObservationDate  46 non-null     object \n",
            " 1   Province/State   45 non-null     object \n",
            " 2   Country/Region   46 non-null     object \n",
            " 3   Confirmed        46 non-null     float64\n",
            " 4   Deaths           46 non-null     float64\n",
            " 5   Recovered        46 non-null     float64\n",
            "dtypes: float64(3), object(3)\n",
            "memory usage: 2.5+ KB\n"
          ]
        }
      ]
    },
    {
      "cell_type": "code",
      "source": [
        "497-46 # Количество дубликатов в исходной таблице составило 497-46 = 451"
      ],
      "metadata": {
        "colab": {
          "base_uri": "https://localhost:8080/"
        },
        "id": "keWP3vY2ci6W",
        "outputId": "3c5c2bba-7b7a-4f75-e53f-868185e80773"
      },
      "execution_count": 80,
      "outputs": [
        {
          "output_type": "execute_result",
          "data": {
            "text/plain": [
              "451"
            ]
          },
          "metadata": {},
          "execution_count": 80
        }
      ]
    },
    {
      "cell_type": "markdown",
      "source": [
        "Разделение объединение таблицы"
      ],
      "metadata": {
        "id": "C-DhunTCcLNx"
      }
    },
    {
      "cell_type": "code",
      "source": [
        "df1 = df.iloc[:23, :] # Выберем первые 23 строчек и все столбцы\n",
        "df2 = df.iloc[23:, :] # Выберем последующие строчки после 23 и все столбцы\n"
      ],
      "metadata": {
        "id": "o1fMEKWYcobH"
      },
      "execution_count": 92,
      "outputs": []
    },
    {
      "cell_type": "code",
      "source": [
        "df1.info()"
      ],
      "metadata": {
        "colab": {
          "base_uri": "https://localhost:8080/"
        },
        "id": "Rx9_N-_lh2tC",
        "outputId": "2d79d965-ba06-4e27-ba4f-952214497f21"
      },
      "execution_count": 93,
      "outputs": [
        {
          "output_type": "stream",
          "name": "stdout",
          "text": [
            "<class 'pandas.core.frame.DataFrame'>\n",
            "Int64Index: 23 entries, 0 to 22\n",
            "Data columns (total 6 columns):\n",
            " #   Column           Non-Null Count  Dtype  \n",
            "---  ------           --------------  -----  \n",
            " 0   ObservationDate  23 non-null     object \n",
            " 1   Province/State   23 non-null     object \n",
            " 2   Country/Region   23 non-null     object \n",
            " 3   Confirmed        23 non-null     float64\n",
            " 4   Deaths           23 non-null     float64\n",
            " 5   Recovered        23 non-null     float64\n",
            "dtypes: float64(3), object(3)\n",
            "memory usage: 1.3+ KB\n"
          ]
        }
      ]
    },
    {
      "cell_type": "code",
      "source": [
        "df2.info()"
      ],
      "metadata": {
        "colab": {
          "base_uri": "https://localhost:8080/"
        },
        "id": "ufHMqNDrh8Lw",
        "outputId": "3e8a5bf1-4a2d-4557-fc4e-3eb3b2d9c80d"
      },
      "execution_count": 94,
      "outputs": [
        {
          "output_type": "stream",
          "name": "stdout",
          "text": [
            "<class 'pandas.core.frame.DataFrame'>\n",
            "Int64Index: 23 entries, 23 to 371\n",
            "Data columns (total 6 columns):\n",
            " #   Column           Non-Null Count  Dtype  \n",
            "---  ------           --------------  -----  \n",
            " 0   ObservationDate  23 non-null     object \n",
            " 1   Province/State   22 non-null     object \n",
            " 2   Country/Region   23 non-null     object \n",
            " 3   Confirmed        23 non-null     float64\n",
            " 4   Deaths           23 non-null     float64\n",
            " 5   Recovered        23 non-null     float64\n",
            "dtypes: float64(3), object(3)\n",
            "memory usage: 1.3+ KB\n"
          ]
        }
      ]
    },
    {
      "cell_type": "code",
      "source": [
        "result1 = pd.merge(df1, df2, on='ObservationDate', how='inner') # объеденение таблиц по способу inner\n",
        "result1.info()"
      ],
      "metadata": {
        "colab": {
          "base_uri": "https://localhost:8080/"
        },
        "id": "wmpIcOlPjDj9",
        "outputId": "20dec3da-7d1a-4efa-96e2-c4fa6744054d"
      },
      "execution_count": 97,
      "outputs": [
        {
          "output_type": "stream",
          "name": "stdout",
          "text": [
            "<class 'pandas.core.frame.DataFrame'>\n",
            "Int64Index: 299 entries, 0 to 298\n",
            "Data columns (total 11 columns):\n",
            " #   Column            Non-Null Count  Dtype  \n",
            "---  ------            --------------  -----  \n",
            " 0   ObservationDate   299 non-null    object \n",
            " 1   Province/State_x  299 non-null    object \n",
            " 2   Country/Region_x  299 non-null    object \n",
            " 3   Confirmed_x       299 non-null    float64\n",
            " 4   Deaths_x          299 non-null    float64\n",
            " 5   Recovered_x       299 non-null    float64\n",
            " 6   Province/State_y  276 non-null    object \n",
            " 7   Country/Region_y  299 non-null    object \n",
            " 8   Confirmed_y       299 non-null    float64\n",
            " 9   Deaths_y          299 non-null    float64\n",
            " 10  Recovered_y       299 non-null    float64\n",
            "dtypes: float64(6), object(5)\n",
            "memory usage: 28.0+ KB\n"
          ]
        }
      ]
    },
    {
      "cell_type": "code",
      "source": [
        "result2 = pd.merge(df1, df2, on='ObservationDate', how='left') # объеденение таблиц по способу left\n",
        "result2.info()"
      ],
      "metadata": {
        "colab": {
          "base_uri": "https://localhost:8080/"
        },
        "id": "GiLIcW_-lMlx",
        "outputId": "667d31d5-f9be-422c-ecb6-0e06f53b4f5e"
      },
      "execution_count": 98,
      "outputs": [
        {
          "output_type": "stream",
          "name": "stdout",
          "text": [
            "<class 'pandas.core.frame.DataFrame'>\n",
            "Int64Index: 299 entries, 0 to 298\n",
            "Data columns (total 11 columns):\n",
            " #   Column            Non-Null Count  Dtype  \n",
            "---  ------            --------------  -----  \n",
            " 0   ObservationDate   299 non-null    object \n",
            " 1   Province/State_x  299 non-null    object \n",
            " 2   Country/Region_x  299 non-null    object \n",
            " 3   Confirmed_x       299 non-null    float64\n",
            " 4   Deaths_x          299 non-null    float64\n",
            " 5   Recovered_x       299 non-null    float64\n",
            " 6   Province/State_y  276 non-null    object \n",
            " 7   Country/Region_y  299 non-null    object \n",
            " 8   Confirmed_y       299 non-null    float64\n",
            " 9   Deaths_y          299 non-null    float64\n",
            " 10  Recovered_y       299 non-null    float64\n",
            "dtypes: float64(6), object(5)\n",
            "memory usage: 28.0+ KB\n"
          ]
        }
      ]
    },
    {
      "cell_type": "code",
      "source": [
        "result3 = pd.merge(df1, df2, on='ObservationDate', how='right') # объеденение таблиц по способу right\n",
        "result3.info()"
      ],
      "metadata": {
        "colab": {
          "base_uri": "https://localhost:8080/"
        },
        "id": "Sw0KD_AAmiiw",
        "outputId": "35a29eb5-3bbc-423b-d08b-620c0384f3ac"
      },
      "execution_count": 100,
      "outputs": [
        {
          "output_type": "stream",
          "name": "stdout",
          "text": [
            "<class 'pandas.core.frame.DataFrame'>\n",
            "Int64Index: 309 entries, 0 to 308\n",
            "Data columns (total 11 columns):\n",
            " #   Column            Non-Null Count  Dtype  \n",
            "---  ------            --------------  -----  \n",
            " 0   ObservationDate   309 non-null    object \n",
            " 1   Province/State_x  299 non-null    object \n",
            " 2   Country/Region_x  299 non-null    object \n",
            " 3   Confirmed_x       299 non-null    float64\n",
            " 4   Deaths_x          299 non-null    float64\n",
            " 5   Recovered_x       299 non-null    float64\n",
            " 6   Province/State_y  286 non-null    object \n",
            " 7   Country/Region_y  309 non-null    object \n",
            " 8   Confirmed_y       309 non-null    float64\n",
            " 9   Deaths_y          309 non-null    float64\n",
            " 10  Recovered_y       309 non-null    float64\n",
            "dtypes: float64(6), object(5)\n",
            "memory usage: 29.0+ KB\n"
          ]
        }
      ]
    },
    {
      "cell_type": "code",
      "source": [
        "result4 = pd.merge(df1, df2, on='ObservationDate', how='outer') # объеденение таблиц по способу outer\n",
        "result4.info()"
      ],
      "metadata": {
        "colab": {
          "base_uri": "https://localhost:8080/"
        },
        "id": "jMCVvMyfmqXd",
        "outputId": "cea696ea-d84c-4c43-abb2-47964418ef9a"
      },
      "execution_count": 101,
      "outputs": [
        {
          "output_type": "stream",
          "name": "stdout",
          "text": [
            "<class 'pandas.core.frame.DataFrame'>\n",
            "Int64Index: 309 entries, 0 to 308\n",
            "Data columns (total 11 columns):\n",
            " #   Column            Non-Null Count  Dtype  \n",
            "---  ------            --------------  -----  \n",
            " 0   ObservationDate   309 non-null    object \n",
            " 1   Province/State_x  299 non-null    object \n",
            " 2   Country/Region_x  299 non-null    object \n",
            " 3   Confirmed_x       299 non-null    float64\n",
            " 4   Deaths_x          299 non-null    float64\n",
            " 5   Recovered_x       299 non-null    float64\n",
            " 6   Province/State_y  286 non-null    object \n",
            " 7   Country/Region_y  309 non-null    object \n",
            " 8   Confirmed_y       309 non-null    float64\n",
            " 9   Deaths_y          309 non-null    float64\n",
            " 10  Recovered_y       309 non-null    float64\n",
            "dtypes: float64(6), object(5)\n",
            "memory usage: 29.0+ KB\n"
          ]
        }
      ]
    }
  ]
}