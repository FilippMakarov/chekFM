{
  "nbformat": 4,
  "nbformat_minor": 0,
  "metadata": {
    "colab": {
      "provenance": [],
      "authorship_tag": "ABX9TyMlXWN43QIqXAsXRZ+yEyG5",
      "include_colab_link": true
    },
    "kernelspec": {
      "name": "python3",
      "display_name": "Python 3"
    },
    "language_info": {
      "name": "python"
    }
  },
  "cells": [
    {
      "cell_type": "markdown",
      "metadata": {
        "id": "view-in-github",
        "colab_type": "text"
      },
      "source": [
        "<a href=\"https://colab.research.google.com/github/FilippMakarov/chekFM/blob/main/21hm.ipynb\" target=\"_parent\"><img src=\"https://colab.research.google.com/assets/colab-badge.svg\" alt=\"Open In Colab\"/></a>"
      ]
    },
    {
      "cell_type": "code",
      "execution_count": 123,
      "metadata": {
        "id": "s1fsFRCouuiy"
      },
      "outputs": [],
      "source": [
        "import pandas as pd\n",
        "from sklearn.preprocessing import normalize"
      ]
    },
    {
      "cell_type": "markdown",
      "source": [
        "**Первичный анализ данных**"
      ],
      "metadata": {
        "id": "TcZLFhZS5h1M"
      }
    },
    {
      "cell_type": "code",
      "source": [
        "data =  pd.read_csv('smartphone_cleaned_v5.csv')\n",
        "data.info()"
      ],
      "metadata": {
        "colab": {
          "base_uri": "https://localhost:8080/"
        },
        "id": "dnSvPRgDyWNr",
        "outputId": "421b4f7d-74bc-42d8-f7ab-9372c29362a1"
      },
      "execution_count": 124,
      "outputs": [
        {
          "output_type": "stream",
          "name": "stdout",
          "text": [
            "<class 'pandas.core.frame.DataFrame'>\n",
            "RangeIndex: 980 entries, 0 to 979\n",
            "Data columns (total 25 columns):\n",
            " #   Column                     Non-Null Count  Dtype  \n",
            "---  ------                     --------------  -----  \n",
            " 0   brand_name                 980 non-null    object \n",
            " 1   model                      980 non-null    object \n",
            " 2   price                      980 non-null    int64  \n",
            " 3   rating                     879 non-null    float64\n",
            " 4   has_5g                     980 non-null    bool   \n",
            " 5   has_nfc                    980 non-null    bool   \n",
            " 6   has_ir_blaster             980 non-null    bool   \n",
            " 7   processor_brand            960 non-null    object \n",
            " 8   num_cores                  974 non-null    float64\n",
            " 9   processor_speed            938 non-null    float64\n",
            " 10  battery_capacity           969 non-null    float64\n",
            " 11  fast_charging_available    980 non-null    int64  \n",
            " 12  fast_charging              769 non-null    float64\n",
            " 13  ram_capacity               980 non-null    float64\n",
            " 14  internal_memory            980 non-null    float64\n",
            " 15  screen_size                980 non-null    float64\n",
            " 16  refresh_rate               980 non-null    int64  \n",
            " 17  resolution                 980 non-null    object \n",
            " 18  num_rear_cameras           980 non-null    int64  \n",
            " 19  num_front_cameras          976 non-null    float64\n",
            " 20  os                         966 non-null    object \n",
            " 21  primary_camera_rear        980 non-null    float64\n",
            " 22  primary_camera_front       975 non-null    float64\n",
            " 23  extended_memory_available  980 non-null    int64  \n",
            " 24  extended_upto              500 non-null    float64\n",
            "dtypes: bool(3), float64(12), int64(5), object(5)\n",
            "memory usage: 171.4+ KB\n"
          ]
        }
      ]
    },
    {
      "cell_type": "markdown",
      "source": [
        "Столбцы имеющие пустые значения: rating, processor_brand, num_cores, processor_speed, battery_capacity, fast_charging, num_front_cameras, os, primary_camera_front,  extended_upto"
      ],
      "metadata": {
        "id": "W08QaBz35po8"
      }
    },
    {
      "cell_type": "code",
      "source": [
        "data.describe()"
      ],
      "metadata": {
        "id": "2upApQ1d6LTU",
        "colab": {
          "base_uri": "https://localhost:8080/",
          "height": 320
        },
        "outputId": "4ea76224-dc71-4b57-ea67-6e9f3608a7ba"
      },
      "execution_count": 125,
      "outputs": [
        {
          "output_type": "execute_result",
          "data": {
            "text/plain": [
              "               price      rating   num_cores  processor_speed  \\\n",
              "count     980.000000  879.000000  974.000000       938.000000   \n",
              "mean    32520.504082   78.258248    7.772074         2.427217   \n",
              "std     39531.812669    7.402854    0.836845         0.464090   \n",
              "min      3499.000000   60.000000    4.000000         1.200000   \n",
              "25%     12999.000000   74.000000    8.000000         2.050000   \n",
              "50%     19994.500000   80.000000    8.000000         2.300000   \n",
              "75%     35491.500000   84.000000    8.000000         2.840000   \n",
              "max    650000.000000   89.000000    8.000000         3.220000   \n",
              "\n",
              "       battery_capacity  fast_charging_available  fast_charging  ram_capacity  \\\n",
              "count        969.000000               980.000000     769.000000    980.000000   \n",
              "mean        4817.748194                 0.854082      46.126138      6.560204   \n",
              "std         1009.540054                 0.353205      34.277870      2.744378   \n",
              "min         1821.000000                 0.000000      10.000000      1.000000   \n",
              "25%         4500.000000                 1.000000      18.000000      4.000000   \n",
              "50%         5000.000000                 1.000000      33.000000      6.000000   \n",
              "75%         5000.000000                 1.000000      66.000000      8.000000   \n",
              "max        22000.000000                 1.000000     240.000000     18.000000   \n",
              "\n",
              "       internal_memory  screen_size  refresh_rate  num_rear_cameras  \\\n",
              "count       980.000000   980.000000    980.000000        980.000000   \n",
              "mean        141.036735     6.536765     92.256122          2.814286   \n",
              "std         107.134516     0.349162     28.988052          0.776441   \n",
              "min           8.000000     3.540000     60.000000          1.000000   \n",
              "25%          64.000000     6.500000     60.000000          2.000000   \n",
              "50%         128.000000     6.580000     90.000000          3.000000   \n",
              "75%         128.000000     6.670000    120.000000          3.000000   \n",
              "max        1024.000000     8.030000    240.000000          4.000000   \n",
              "\n",
              "       num_front_cameras  primary_camera_rear  primary_camera_front  \\\n",
              "count         976.000000           980.000000            975.000000   \n",
              "mean            1.029713            50.319286             16.589128   \n",
              "std             0.169882            33.000968             10.876802   \n",
              "min             1.000000             2.000000              0.300000   \n",
              "25%             1.000000            24.000000              8.000000   \n",
              "50%             1.000000            50.000000             16.000000   \n",
              "75%             1.000000            64.000000             16.000000   \n",
              "max             2.000000           200.000000             60.000000   \n",
              "\n",
              "       extended_memory_available  extended_upto  \n",
              "count                 980.000000     500.000000  \n",
              "mean                    0.630612     736.064000  \n",
              "std                     0.482885     366.894911  \n",
              "min                     0.000000      32.000000  \n",
              "25%                     0.000000     512.000000  \n",
              "50%                     1.000000    1024.000000  \n",
              "75%                     1.000000    1024.000000  \n",
              "max                     1.000000    2048.000000  "
            ],
            "text/html": [
              "\n",
              "  <div id=\"df-eccee2ba-92fe-496f-8488-c0e00a3ef190\" class=\"colab-df-container\">\n",
              "    <div>\n",
              "<style scoped>\n",
              "    .dataframe tbody tr th:only-of-type {\n",
              "        vertical-align: middle;\n",
              "    }\n",
              "\n",
              "    .dataframe tbody tr th {\n",
              "        vertical-align: top;\n",
              "    }\n",
              "\n",
              "    .dataframe thead th {\n",
              "        text-align: right;\n",
              "    }\n",
              "</style>\n",
              "<table border=\"1\" class=\"dataframe\">\n",
              "  <thead>\n",
              "    <tr style=\"text-align: right;\">\n",
              "      <th></th>\n",
              "      <th>price</th>\n",
              "      <th>rating</th>\n",
              "      <th>num_cores</th>\n",
              "      <th>processor_speed</th>\n",
              "      <th>battery_capacity</th>\n",
              "      <th>fast_charging_available</th>\n",
              "      <th>fast_charging</th>\n",
              "      <th>ram_capacity</th>\n",
              "      <th>internal_memory</th>\n",
              "      <th>screen_size</th>\n",
              "      <th>refresh_rate</th>\n",
              "      <th>num_rear_cameras</th>\n",
              "      <th>num_front_cameras</th>\n",
              "      <th>primary_camera_rear</th>\n",
              "      <th>primary_camera_front</th>\n",
              "      <th>extended_memory_available</th>\n",
              "      <th>extended_upto</th>\n",
              "    </tr>\n",
              "  </thead>\n",
              "  <tbody>\n",
              "    <tr>\n",
              "      <th>count</th>\n",
              "      <td>980.000000</td>\n",
              "      <td>879.000000</td>\n",
              "      <td>974.000000</td>\n",
              "      <td>938.000000</td>\n",
              "      <td>969.000000</td>\n",
              "      <td>980.000000</td>\n",
              "      <td>769.000000</td>\n",
              "      <td>980.000000</td>\n",
              "      <td>980.000000</td>\n",
              "      <td>980.000000</td>\n",
              "      <td>980.000000</td>\n",
              "      <td>980.000000</td>\n",
              "      <td>976.000000</td>\n",
              "      <td>980.000000</td>\n",
              "      <td>975.000000</td>\n",
              "      <td>980.000000</td>\n",
              "      <td>500.000000</td>\n",
              "    </tr>\n",
              "    <tr>\n",
              "      <th>mean</th>\n",
              "      <td>32520.504082</td>\n",
              "      <td>78.258248</td>\n",
              "      <td>7.772074</td>\n",
              "      <td>2.427217</td>\n",
              "      <td>4817.748194</td>\n",
              "      <td>0.854082</td>\n",
              "      <td>46.126138</td>\n",
              "      <td>6.560204</td>\n",
              "      <td>141.036735</td>\n",
              "      <td>6.536765</td>\n",
              "      <td>92.256122</td>\n",
              "      <td>2.814286</td>\n",
              "      <td>1.029713</td>\n",
              "      <td>50.319286</td>\n",
              "      <td>16.589128</td>\n",
              "      <td>0.630612</td>\n",
              "      <td>736.064000</td>\n",
              "    </tr>\n",
              "    <tr>\n",
              "      <th>std</th>\n",
              "      <td>39531.812669</td>\n",
              "      <td>7.402854</td>\n",
              "      <td>0.836845</td>\n",
              "      <td>0.464090</td>\n",
              "      <td>1009.540054</td>\n",
              "      <td>0.353205</td>\n",
              "      <td>34.277870</td>\n",
              "      <td>2.744378</td>\n",
              "      <td>107.134516</td>\n",
              "      <td>0.349162</td>\n",
              "      <td>28.988052</td>\n",
              "      <td>0.776441</td>\n",
              "      <td>0.169882</td>\n",
              "      <td>33.000968</td>\n",
              "      <td>10.876802</td>\n",
              "      <td>0.482885</td>\n",
              "      <td>366.894911</td>\n",
              "    </tr>\n",
              "    <tr>\n",
              "      <th>min</th>\n",
              "      <td>3499.000000</td>\n",
              "      <td>60.000000</td>\n",
              "      <td>4.000000</td>\n",
              "      <td>1.200000</td>\n",
              "      <td>1821.000000</td>\n",
              "      <td>0.000000</td>\n",
              "      <td>10.000000</td>\n",
              "      <td>1.000000</td>\n",
              "      <td>8.000000</td>\n",
              "      <td>3.540000</td>\n",
              "      <td>60.000000</td>\n",
              "      <td>1.000000</td>\n",
              "      <td>1.000000</td>\n",
              "      <td>2.000000</td>\n",
              "      <td>0.300000</td>\n",
              "      <td>0.000000</td>\n",
              "      <td>32.000000</td>\n",
              "    </tr>\n",
              "    <tr>\n",
              "      <th>25%</th>\n",
              "      <td>12999.000000</td>\n",
              "      <td>74.000000</td>\n",
              "      <td>8.000000</td>\n",
              "      <td>2.050000</td>\n",
              "      <td>4500.000000</td>\n",
              "      <td>1.000000</td>\n",
              "      <td>18.000000</td>\n",
              "      <td>4.000000</td>\n",
              "      <td>64.000000</td>\n",
              "      <td>6.500000</td>\n",
              "      <td>60.000000</td>\n",
              "      <td>2.000000</td>\n",
              "      <td>1.000000</td>\n",
              "      <td>24.000000</td>\n",
              "      <td>8.000000</td>\n",
              "      <td>0.000000</td>\n",
              "      <td>512.000000</td>\n",
              "    </tr>\n",
              "    <tr>\n",
              "      <th>50%</th>\n",
              "      <td>19994.500000</td>\n",
              "      <td>80.000000</td>\n",
              "      <td>8.000000</td>\n",
              "      <td>2.300000</td>\n",
              "      <td>5000.000000</td>\n",
              "      <td>1.000000</td>\n",
              "      <td>33.000000</td>\n",
              "      <td>6.000000</td>\n",
              "      <td>128.000000</td>\n",
              "      <td>6.580000</td>\n",
              "      <td>90.000000</td>\n",
              "      <td>3.000000</td>\n",
              "      <td>1.000000</td>\n",
              "      <td>50.000000</td>\n",
              "      <td>16.000000</td>\n",
              "      <td>1.000000</td>\n",
              "      <td>1024.000000</td>\n",
              "    </tr>\n",
              "    <tr>\n",
              "      <th>75%</th>\n",
              "      <td>35491.500000</td>\n",
              "      <td>84.000000</td>\n",
              "      <td>8.000000</td>\n",
              "      <td>2.840000</td>\n",
              "      <td>5000.000000</td>\n",
              "      <td>1.000000</td>\n",
              "      <td>66.000000</td>\n",
              "      <td>8.000000</td>\n",
              "      <td>128.000000</td>\n",
              "      <td>6.670000</td>\n",
              "      <td>120.000000</td>\n",
              "      <td>3.000000</td>\n",
              "      <td>1.000000</td>\n",
              "      <td>64.000000</td>\n",
              "      <td>16.000000</td>\n",
              "      <td>1.000000</td>\n",
              "      <td>1024.000000</td>\n",
              "    </tr>\n",
              "    <tr>\n",
              "      <th>max</th>\n",
              "      <td>650000.000000</td>\n",
              "      <td>89.000000</td>\n",
              "      <td>8.000000</td>\n",
              "      <td>3.220000</td>\n",
              "      <td>22000.000000</td>\n",
              "      <td>1.000000</td>\n",
              "      <td>240.000000</td>\n",
              "      <td>18.000000</td>\n",
              "      <td>1024.000000</td>\n",
              "      <td>8.030000</td>\n",
              "      <td>240.000000</td>\n",
              "      <td>4.000000</td>\n",
              "      <td>2.000000</td>\n",
              "      <td>200.000000</td>\n",
              "      <td>60.000000</td>\n",
              "      <td>1.000000</td>\n",
              "      <td>2048.000000</td>\n",
              "    </tr>\n",
              "  </tbody>\n",
              "</table>\n",
              "</div>\n",
              "    <div class=\"colab-df-buttons\">\n",
              "\n",
              "  <div class=\"colab-df-container\">\n",
              "    <button class=\"colab-df-convert\" onclick=\"convertToInteractive('df-eccee2ba-92fe-496f-8488-c0e00a3ef190')\"\n",
              "            title=\"Convert this dataframe to an interactive table.\"\n",
              "            style=\"display:none;\">\n",
              "\n",
              "  <svg xmlns=\"http://www.w3.org/2000/svg\" height=\"24px\" viewBox=\"0 -960 960 960\">\n",
              "    <path d=\"M120-120v-720h720v720H120Zm60-500h600v-160H180v160Zm220 220h160v-160H400v160Zm0 220h160v-160H400v160ZM180-400h160v-160H180v160Zm440 0h160v-160H620v160ZM180-180h160v-160H180v160Zm440 0h160v-160H620v160Z\"/>\n",
              "  </svg>\n",
              "    </button>\n",
              "\n",
              "  <style>\n",
              "    .colab-df-container {\n",
              "      display:flex;\n",
              "      gap: 12px;\n",
              "    }\n",
              "\n",
              "    .colab-df-convert {\n",
              "      background-color: #E8F0FE;\n",
              "      border: none;\n",
              "      border-radius: 50%;\n",
              "      cursor: pointer;\n",
              "      display: none;\n",
              "      fill: #1967D2;\n",
              "      height: 32px;\n",
              "      padding: 0 0 0 0;\n",
              "      width: 32px;\n",
              "    }\n",
              "\n",
              "    .colab-df-convert:hover {\n",
              "      background-color: #E2EBFA;\n",
              "      box-shadow: 0px 1px 2px rgba(60, 64, 67, 0.3), 0px 1px 3px 1px rgba(60, 64, 67, 0.15);\n",
              "      fill: #174EA6;\n",
              "    }\n",
              "\n",
              "    .colab-df-buttons div {\n",
              "      margin-bottom: 4px;\n",
              "    }\n",
              "\n",
              "    [theme=dark] .colab-df-convert {\n",
              "      background-color: #3B4455;\n",
              "      fill: #D2E3FC;\n",
              "    }\n",
              "\n",
              "    [theme=dark] .colab-df-convert:hover {\n",
              "      background-color: #434B5C;\n",
              "      box-shadow: 0px 1px 3px 1px rgba(0, 0, 0, 0.15);\n",
              "      filter: drop-shadow(0px 1px 2px rgba(0, 0, 0, 0.3));\n",
              "      fill: #FFFFFF;\n",
              "    }\n",
              "  </style>\n",
              "\n",
              "    <script>\n",
              "      const buttonEl =\n",
              "        document.querySelector('#df-eccee2ba-92fe-496f-8488-c0e00a3ef190 button.colab-df-convert');\n",
              "      buttonEl.style.display =\n",
              "        google.colab.kernel.accessAllowed ? 'block' : 'none';\n",
              "\n",
              "      async function convertToInteractive(key) {\n",
              "        const element = document.querySelector('#df-eccee2ba-92fe-496f-8488-c0e00a3ef190');\n",
              "        const dataTable =\n",
              "          await google.colab.kernel.invokeFunction('convertToInteractive',\n",
              "                                                    [key], {});\n",
              "        if (!dataTable) return;\n",
              "\n",
              "        const docLinkHtml = 'Like what you see? Visit the ' +\n",
              "          '<a target=\"_blank\" href=https://colab.research.google.com/notebooks/data_table.ipynb>data table notebook</a>'\n",
              "          + ' to learn more about interactive tables.';\n",
              "        element.innerHTML = '';\n",
              "        dataTable['output_type'] = 'display_data';\n",
              "        await google.colab.output.renderOutput(dataTable, element);\n",
              "        const docLink = document.createElement('div');\n",
              "        docLink.innerHTML = docLinkHtml;\n",
              "        element.appendChild(docLink);\n",
              "      }\n",
              "    </script>\n",
              "  </div>\n",
              "\n",
              "\n",
              "<div id=\"df-e0eff9fa-28b8-42df-94ff-3c34d645d8d1\">\n",
              "  <button class=\"colab-df-quickchart\" onclick=\"quickchart('df-e0eff9fa-28b8-42df-94ff-3c34d645d8d1')\"\n",
              "            title=\"Suggest charts.\"\n",
              "            style=\"display:none;\">\n",
              "\n",
              "<svg xmlns=\"http://www.w3.org/2000/svg\" height=\"24px\"viewBox=\"0 0 24 24\"\n",
              "     width=\"24px\">\n",
              "    <g>\n",
              "        <path d=\"M19 3H5c-1.1 0-2 .9-2 2v14c0 1.1.9 2 2 2h14c1.1 0 2-.9 2-2V5c0-1.1-.9-2-2-2zM9 17H7v-7h2v7zm4 0h-2V7h2v10zm4 0h-2v-4h2v4z\"/>\n",
              "    </g>\n",
              "</svg>\n",
              "  </button>\n",
              "\n",
              "<style>\n",
              "  .colab-df-quickchart {\n",
              "      --bg-color: #E8F0FE;\n",
              "      --fill-color: #1967D2;\n",
              "      --hover-bg-color: #E2EBFA;\n",
              "      --hover-fill-color: #174EA6;\n",
              "      --disabled-fill-color: #AAA;\n",
              "      --disabled-bg-color: #DDD;\n",
              "  }\n",
              "\n",
              "  [theme=dark] .colab-df-quickchart {\n",
              "      --bg-color: #3B4455;\n",
              "      --fill-color: #D2E3FC;\n",
              "      --hover-bg-color: #434B5C;\n",
              "      --hover-fill-color: #FFFFFF;\n",
              "      --disabled-bg-color: #3B4455;\n",
              "      --disabled-fill-color: #666;\n",
              "  }\n",
              "\n",
              "  .colab-df-quickchart {\n",
              "    background-color: var(--bg-color);\n",
              "    border: none;\n",
              "    border-radius: 50%;\n",
              "    cursor: pointer;\n",
              "    display: none;\n",
              "    fill: var(--fill-color);\n",
              "    height: 32px;\n",
              "    padding: 0;\n",
              "    width: 32px;\n",
              "  }\n",
              "\n",
              "  .colab-df-quickchart:hover {\n",
              "    background-color: var(--hover-bg-color);\n",
              "    box-shadow: 0 1px 2px rgba(60, 64, 67, 0.3), 0 1px 3px 1px rgba(60, 64, 67, 0.15);\n",
              "    fill: var(--button-hover-fill-color);\n",
              "  }\n",
              "\n",
              "  .colab-df-quickchart-complete:disabled,\n",
              "  .colab-df-quickchart-complete:disabled:hover {\n",
              "    background-color: var(--disabled-bg-color);\n",
              "    fill: var(--disabled-fill-color);\n",
              "    box-shadow: none;\n",
              "  }\n",
              "\n",
              "  .colab-df-spinner {\n",
              "    border: 2px solid var(--fill-color);\n",
              "    border-color: transparent;\n",
              "    border-bottom-color: var(--fill-color);\n",
              "    animation:\n",
              "      spin 1s steps(1) infinite;\n",
              "  }\n",
              "\n",
              "  @keyframes spin {\n",
              "    0% {\n",
              "      border-color: transparent;\n",
              "      border-bottom-color: var(--fill-color);\n",
              "      border-left-color: var(--fill-color);\n",
              "    }\n",
              "    20% {\n",
              "      border-color: transparent;\n",
              "      border-left-color: var(--fill-color);\n",
              "      border-top-color: var(--fill-color);\n",
              "    }\n",
              "    30% {\n",
              "      border-color: transparent;\n",
              "      border-left-color: var(--fill-color);\n",
              "      border-top-color: var(--fill-color);\n",
              "      border-right-color: var(--fill-color);\n",
              "    }\n",
              "    40% {\n",
              "      border-color: transparent;\n",
              "      border-right-color: var(--fill-color);\n",
              "      border-top-color: var(--fill-color);\n",
              "    }\n",
              "    60% {\n",
              "      border-color: transparent;\n",
              "      border-right-color: var(--fill-color);\n",
              "    }\n",
              "    80% {\n",
              "      border-color: transparent;\n",
              "      border-right-color: var(--fill-color);\n",
              "      border-bottom-color: var(--fill-color);\n",
              "    }\n",
              "    90% {\n",
              "      border-color: transparent;\n",
              "      border-bottom-color: var(--fill-color);\n",
              "    }\n",
              "  }\n",
              "</style>\n",
              "\n",
              "  <script>\n",
              "    async function quickchart(key) {\n",
              "      const quickchartButtonEl =\n",
              "        document.querySelector('#' + key + ' button');\n",
              "      quickchartButtonEl.disabled = true;  // To prevent multiple clicks.\n",
              "      quickchartButtonEl.classList.add('colab-df-spinner');\n",
              "      try {\n",
              "        const charts = await google.colab.kernel.invokeFunction(\n",
              "            'suggestCharts', [key], {});\n",
              "      } catch (error) {\n",
              "        console.error('Error during call to suggestCharts:', error);\n",
              "      }\n",
              "      quickchartButtonEl.classList.remove('colab-df-spinner');\n",
              "      quickchartButtonEl.classList.add('colab-df-quickchart-complete');\n",
              "    }\n",
              "    (() => {\n",
              "      let quickchartButtonEl =\n",
              "        document.querySelector('#df-e0eff9fa-28b8-42df-94ff-3c34d645d8d1 button');\n",
              "      quickchartButtonEl.style.display =\n",
              "        google.colab.kernel.accessAllowed ? 'block' : 'none';\n",
              "    })();\n",
              "  </script>\n",
              "</div>\n",
              "    </div>\n",
              "  </div>\n"
            ]
          },
          "metadata": {},
          "execution_count": 125
        }
      ]
    },
    {
      "cell_type": "markdown",
      "source": [
        "**Замена или удаление пропусков**"
      ],
      "metadata": {
        "id": "Ka2WGya4OLBb"
      }
    },
    {
      "cell_type": "code",
      "source": [
        "data.rating.unique()"
      ],
      "metadata": {
        "colab": {
          "base_uri": "https://localhost:8080/"
        },
        "id": "uMS1NQz2OoDS",
        "outputId": "d660c61a-5fae-465d-fb2f-21cfc2739737"
      },
      "execution_count": 126,
      "outputs": [
        {
          "output_type": "execute_result",
          "data": {
            "text/plain": [
              "array([89., 81., 75., 82., 80., 86., 85., 84., 79., nan, 65., 72., 76.,\n",
              "       87., 88., 83., 73., 64., 68., 74., 78., 62., 66., 69., 67., 71.,\n",
              "       77., 61., 60., 63., 70.])"
            ]
          },
          "metadata": {},
          "execution_count": 126
        }
      ]
    },
    {
      "cell_type": "code",
      "source": [
        "data[\"rating\"] = data[\"rating\"].fillna(data[\"rating\"].mean())\n"
      ],
      "metadata": {
        "id": "dnF9icdIPBEs"
      },
      "execution_count": 127,
      "outputs": []
    },
    {
      "cell_type": "code",
      "source": [
        "data.processor_brand.unique()"
      ],
      "metadata": {
        "colab": {
          "base_uri": "https://localhost:8080/"
        },
        "id": "-7XPbGryQvrP",
        "outputId": "ff482e2c-f3b2-4264-9974-e6d532bd2bd0"
      },
      "execution_count": 128,
      "outputs": [
        {
          "output_type": "execute_result",
          "data": {
            "text/plain": [
              "array(['snapdragon', 'exynos', 'dimensity', 'bionic', 'helio', 'unisoc',\n",
              "       'tiger', nan, 'google', 'sc9863a', 'spreadtrum', 'fusion', 'kirin',\n",
              "       'mediatek'], dtype=object)"
            ]
          },
          "metadata": {},
          "execution_count": 128
        }
      ]
    },
    {
      "cell_type": "code",
      "source": [
        "data[\"processor_brand\"].value_counts()"
      ],
      "metadata": {
        "colab": {
          "base_uri": "https://localhost:8080/"
        },
        "id": "MTwZYPZ9RHur",
        "outputId": "888d8725-19ec-4ef5-e462-b518f5b65acf"
      },
      "execution_count": 129,
      "outputs": [
        {
          "output_type": "execute_result",
          "data": {
            "text/plain": [
              "snapdragon    413\n",
              "helio         201\n",
              "dimensity     177\n",
              "exynos         50\n",
              "bionic         45\n",
              "unisoc         26\n",
              "tiger          24\n",
              "google          9\n",
              "kirin           7\n",
              "spreadtrum      4\n",
              "sc9863a         2\n",
              "fusion          1\n",
              "mediatek        1\n",
              "Name: processor_brand, dtype: int64"
            ]
          },
          "metadata": {},
          "execution_count": 129
        }
      ]
    },
    {
      "cell_type": "code",
      "source": [
        "data[\"processor_brand\"] = data[\"processor_brand\"].fillna(\"Unknown\")\n",
        "data.info()"
      ],
      "metadata": {
        "colab": {
          "base_uri": "https://localhost:8080/"
        },
        "id": "D8L3nw2TRVrM",
        "outputId": "eff6eaf5-ba71-4687-f9e4-5bc4befedbbb"
      },
      "execution_count": 130,
      "outputs": [
        {
          "output_type": "stream",
          "name": "stdout",
          "text": [
            "<class 'pandas.core.frame.DataFrame'>\n",
            "RangeIndex: 980 entries, 0 to 979\n",
            "Data columns (total 25 columns):\n",
            " #   Column                     Non-Null Count  Dtype  \n",
            "---  ------                     --------------  -----  \n",
            " 0   brand_name                 980 non-null    object \n",
            " 1   model                      980 non-null    object \n",
            " 2   price                      980 non-null    int64  \n",
            " 3   rating                     980 non-null    float64\n",
            " 4   has_5g                     980 non-null    bool   \n",
            " 5   has_nfc                    980 non-null    bool   \n",
            " 6   has_ir_blaster             980 non-null    bool   \n",
            " 7   processor_brand            980 non-null    object \n",
            " 8   num_cores                  974 non-null    float64\n",
            " 9   processor_speed            938 non-null    float64\n",
            " 10  battery_capacity           969 non-null    float64\n",
            " 11  fast_charging_available    980 non-null    int64  \n",
            " 12  fast_charging              769 non-null    float64\n",
            " 13  ram_capacity               980 non-null    float64\n",
            " 14  internal_memory            980 non-null    float64\n",
            " 15  screen_size                980 non-null    float64\n",
            " 16  refresh_rate               980 non-null    int64  \n",
            " 17  resolution                 980 non-null    object \n",
            " 18  num_rear_cameras           980 non-null    int64  \n",
            " 19  num_front_cameras          976 non-null    float64\n",
            " 20  os                         966 non-null    object \n",
            " 21  primary_camera_rear        980 non-null    float64\n",
            " 22  primary_camera_front       975 non-null    float64\n",
            " 23  extended_memory_available  980 non-null    int64  \n",
            " 24  extended_upto              500 non-null    float64\n",
            "dtypes: bool(3), float64(12), int64(5), object(5)\n",
            "memory usage: 171.4+ KB\n"
          ]
        }
      ]
    },
    {
      "cell_type": "code",
      "source": [
        "data.num_cores.unique()"
      ],
      "metadata": {
        "colab": {
          "base_uri": "https://localhost:8080/"
        },
        "id": "Uo4d_4X8Rki6",
        "outputId": "c3cd0a0b-4b83-4f99-f049-80f449331e24"
      },
      "execution_count": 131,
      "outputs": [
        {
          "output_type": "execute_result",
          "data": {
            "text/plain": [
              "array([ 8.,  6.,  4., nan])"
            ]
          },
          "metadata": {},
          "execution_count": 131
        }
      ]
    },
    {
      "cell_type": "code",
      "source": [
        "data[\"num_cores\"] = data[\"num_cores\"].fillna(data[\"num_cores\"].median())\n",
        "data.info()"
      ],
      "metadata": {
        "colab": {
          "base_uri": "https://localhost:8080/"
        },
        "id": "4bZ6-5yUSYPD",
        "outputId": "ca8bfa3e-ed11-4ec9-fa6b-e35a81d0f310"
      },
      "execution_count": 132,
      "outputs": [
        {
          "output_type": "stream",
          "name": "stdout",
          "text": [
            "<class 'pandas.core.frame.DataFrame'>\n",
            "RangeIndex: 980 entries, 0 to 979\n",
            "Data columns (total 25 columns):\n",
            " #   Column                     Non-Null Count  Dtype  \n",
            "---  ------                     --------------  -----  \n",
            " 0   brand_name                 980 non-null    object \n",
            " 1   model                      980 non-null    object \n",
            " 2   price                      980 non-null    int64  \n",
            " 3   rating                     980 non-null    float64\n",
            " 4   has_5g                     980 non-null    bool   \n",
            " 5   has_nfc                    980 non-null    bool   \n",
            " 6   has_ir_blaster             980 non-null    bool   \n",
            " 7   processor_brand            980 non-null    object \n",
            " 8   num_cores                  980 non-null    float64\n",
            " 9   processor_speed            938 non-null    float64\n",
            " 10  battery_capacity           969 non-null    float64\n",
            " 11  fast_charging_available    980 non-null    int64  \n",
            " 12  fast_charging              769 non-null    float64\n",
            " 13  ram_capacity               980 non-null    float64\n",
            " 14  internal_memory            980 non-null    float64\n",
            " 15  screen_size                980 non-null    float64\n",
            " 16  refresh_rate               980 non-null    int64  \n",
            " 17  resolution                 980 non-null    object \n",
            " 18  num_rear_cameras           980 non-null    int64  \n",
            " 19  num_front_cameras          976 non-null    float64\n",
            " 20  os                         966 non-null    object \n",
            " 21  primary_camera_rear        980 non-null    float64\n",
            " 22  primary_camera_front       975 non-null    float64\n",
            " 23  extended_memory_available  980 non-null    int64  \n",
            " 24  extended_upto              500 non-null    float64\n",
            "dtypes: bool(3), float64(12), int64(5), object(5)\n",
            "memory usage: 171.4+ KB\n"
          ]
        }
      ]
    },
    {
      "cell_type": "code",
      "source": [
        "data.processor_speed.unique()"
      ],
      "metadata": {
        "colab": {
          "base_uri": "https://localhost:8080/"
        },
        "id": "kCNYorf-Sleh",
        "outputId": "9c7951d0-3924-4d78-9a3a-de5864b6b01f"
      },
      "execution_count": 133,
      "outputs": [
        {
          "output_type": "execute_result",
          "data": {
            "text/plain": [
              "array([3.2 , 2.2 , 2.4 , 2.6 , 3.22, 2.5 , 3.  , 2.3 , 2.85, 2.  , 2.84,\n",
              "        nan, 2.65, 2.9 , 2.36, 1.8 , 3.1 , 2.05, 3.05, 1.4 , 1.82, 1.6 ,\n",
              "       2.8 , 1.3 , 2.73, 2.7 , 1.5 , 2.96, 2.35, 2.37, 3.13, 1.99, 2.86,\n",
              "       1.95, 2.1 , 1.2 ])"
            ]
          },
          "metadata": {},
          "execution_count": 133
        }
      ]
    },
    {
      "cell_type": "code",
      "source": [
        "data[\"processor_speed\"].value_counts()"
      ],
      "metadata": {
        "colab": {
          "base_uri": "https://localhost:8080/"
        },
        "id": "Z9WeYF9TU_5h",
        "outputId": "ed5e9e66-f2ed-4ed3-e94e-a97464b959b4"
      },
      "execution_count": 134,
      "outputs": [
        {
          "output_type": "execute_result",
          "data": {
            "text/plain": [
              "2.00    146\n",
              "2.20    135\n",
              "2.40    128\n",
              "3.20     94\n",
              "2.30     86\n",
              "3.00     53\n",
              "2.84     36\n",
              "2.05     28\n",
              "2.50     23\n",
              "1.80     23\n",
              "1.60     20\n",
              "2.85     19\n",
              "3.22     18\n",
              "3.10     15\n",
              "2.60     14\n",
              "2.90     13\n",
              "1.30     10\n",
              "1.82     10\n",
              "2.73      9\n",
              "2.80      9\n",
              "3.05      8\n",
              "2.36      8\n",
              "1.40      5\n",
              "2.65      5\n",
              "2.70      5\n",
              "1.50      4\n",
              "2.96      3\n",
              "2.86      3\n",
              "3.13      2\n",
              "2.35      1\n",
              "2.37      1\n",
              "1.99      1\n",
              "1.95      1\n",
              "2.10      1\n",
              "1.20      1\n",
              "Name: processor_speed, dtype: int64"
            ]
          },
          "metadata": {},
          "execution_count": 134
        }
      ]
    },
    {
      "cell_type": "code",
      "source": [
        "data[\"processor_speed\"] = data[\"processor_speed\"].fillna(data[\"processor_speed\"].mean())\n",
        "data.info()"
      ],
      "metadata": {
        "colab": {
          "base_uri": "https://localhost:8080/"
        },
        "id": "Gu0DyzhyVlkC",
        "outputId": "4beeb396-4b1d-45d0-b5c6-ea8a940b67f9"
      },
      "execution_count": 135,
      "outputs": [
        {
          "output_type": "stream",
          "name": "stdout",
          "text": [
            "<class 'pandas.core.frame.DataFrame'>\n",
            "RangeIndex: 980 entries, 0 to 979\n",
            "Data columns (total 25 columns):\n",
            " #   Column                     Non-Null Count  Dtype  \n",
            "---  ------                     --------------  -----  \n",
            " 0   brand_name                 980 non-null    object \n",
            " 1   model                      980 non-null    object \n",
            " 2   price                      980 non-null    int64  \n",
            " 3   rating                     980 non-null    float64\n",
            " 4   has_5g                     980 non-null    bool   \n",
            " 5   has_nfc                    980 non-null    bool   \n",
            " 6   has_ir_blaster             980 non-null    bool   \n",
            " 7   processor_brand            980 non-null    object \n",
            " 8   num_cores                  980 non-null    float64\n",
            " 9   processor_speed            980 non-null    float64\n",
            " 10  battery_capacity           969 non-null    float64\n",
            " 11  fast_charging_available    980 non-null    int64  \n",
            " 12  fast_charging              769 non-null    float64\n",
            " 13  ram_capacity               980 non-null    float64\n",
            " 14  internal_memory            980 non-null    float64\n",
            " 15  screen_size                980 non-null    float64\n",
            " 16  refresh_rate               980 non-null    int64  \n",
            " 17  resolution                 980 non-null    object \n",
            " 18  num_rear_cameras           980 non-null    int64  \n",
            " 19  num_front_cameras          976 non-null    float64\n",
            " 20  os                         966 non-null    object \n",
            " 21  primary_camera_rear        980 non-null    float64\n",
            " 22  primary_camera_front       975 non-null    float64\n",
            " 23  extended_memory_available  980 non-null    int64  \n",
            " 24  extended_upto              500 non-null    float64\n",
            "dtypes: bool(3), float64(12), int64(5), object(5)\n",
            "memory usage: 171.4+ KB\n"
          ]
        }
      ]
    },
    {
      "cell_type": "code",
      "source": [
        "data[\"battery_capacity\"].value_counts()"
      ],
      "metadata": {
        "colab": {
          "base_uri": "https://localhost:8080/"
        },
        "id": "IYawL70RV8Ji",
        "outputId": "c5b7151a-4dd5-482b-cc5b-d3eb6c31b7b5"
      },
      "execution_count": 136,
      "outputs": [
        {
          "output_type": "execute_result",
          "data": {
            "text/plain": [
              "5000.0    487\n",
              "4500.0     97\n",
              "6000.0     60\n",
              "4000.0     42\n",
              "4700.0     27\n",
              "         ... \n",
              "4730.0      1\n",
              "3520.0      1\n",
              "4080.0      1\n",
              "5600.0      1\n",
              "8000.0      1\n",
              "Name: battery_capacity, Length: 89, dtype: int64"
            ]
          },
          "metadata": {},
          "execution_count": 136
        }
      ]
    },
    {
      "cell_type": "code",
      "source": [
        "data[\"battery_capacity\"] = data[\"battery_capacity\"].fillna(data[\"battery_capacity\"].median())"
      ],
      "metadata": {
        "id": "Blr3zU0TWXTJ"
      },
      "execution_count": 137,
      "outputs": []
    },
    {
      "cell_type": "code",
      "source": [
        "data.fast_charging.unique()"
      ],
      "metadata": {
        "colab": {
          "base_uri": "https://localhost:8080/"
        },
        "id": "FaGuGAzhW0FR",
        "outputId": "162bb14b-bcdc-4fa1-9b6f-39aab42d5749"
      },
      "execution_count": 138,
      "outputs": [
        {
          "output_type": "execute_result",
          "data": {
            "text/plain": [
              "array([100.,  33.,  15.,  nan,  67.,  25., 120.,  80.,  18.,  45.,  10.,\n",
              "        66.,  44., 210.,  30., 150.,  68.,  50.,  20.,  65., 180., 125.,\n",
              "        40.,  60., 200., 240.,  19.,  21., 135., 165.,  22.,  27.,  55.])"
            ]
          },
          "metadata": {},
          "execution_count": 138
        }
      ]
    },
    {
      "cell_type": "code",
      "source": [
        "data[\"fast_charging\"].value_counts()"
      ],
      "metadata": {
        "colab": {
          "base_uri": "https://localhost:8080/"
        },
        "id": "NA1kLdmgW82b",
        "outputId": "c27e3c78-477f-47f6-d53f-cc67f2422a06"
      },
      "execution_count": 139,
      "outputs": [
        {
          "output_type": "execute_result",
          "data": {
            "text/plain": [
              "33.0     152\n",
              "18.0     128\n",
              "67.0      65\n",
              "25.0      53\n",
              "120.0     46\n",
              "15.0      43\n",
              "80.0      42\n",
              "66.0      37\n",
              "10.0      33\n",
              "30.0      32\n",
              "65.0      30\n",
              "44.0      23\n",
              "45.0      17\n",
              "20.0      10\n",
              "68.0       8\n",
              "100.0      7\n",
              "150.0      7\n",
              "125.0      6\n",
              "22.0       5\n",
              "40.0       5\n",
              "60.0       4\n",
              "55.0       3\n",
              "21.0       2\n",
              "210.0      2\n",
              "50.0       2\n",
              "180.0      1\n",
              "200.0      1\n",
              "240.0      1\n",
              "19.0       1\n",
              "135.0      1\n",
              "165.0      1\n",
              "27.0       1\n",
              "Name: fast_charging, dtype: int64"
            ]
          },
          "metadata": {},
          "execution_count": 139
        }
      ]
    },
    {
      "cell_type": "code",
      "source": [
        "data[\"fast_charging\"] = data[\"fast_charging\"].fillna(data[\"fast_charging\"].median())"
      ],
      "metadata": {
        "id": "n1M9kUsAXMXs"
      },
      "execution_count": 140,
      "outputs": []
    },
    {
      "cell_type": "code",
      "source": [
        "data.num_front_cameras.unique()"
      ],
      "metadata": {
        "colab": {
          "base_uri": "https://localhost:8080/"
        },
        "id": "m_hvdBuHXZCz",
        "outputId": "983fb753-9167-43e0-ac3b-5d804abec8bc"
      },
      "execution_count": 141,
      "outputs": [
        {
          "output_type": "execute_result",
          "data": {
            "text/plain": [
              "array([ 1., nan,  2.])"
            ]
          },
          "metadata": {},
          "execution_count": 141
        }
      ]
    },
    {
      "cell_type": "code",
      "source": [
        "data[\"num_front_cameras\"].value_counts()"
      ],
      "metadata": {
        "colab": {
          "base_uri": "https://localhost:8080/"
        },
        "id": "rHx34Q3xXf-q",
        "outputId": "ceaf7891-7473-4c0b-d5e0-32a3d929b839"
      },
      "execution_count": 142,
      "outputs": [
        {
          "output_type": "execute_result",
          "data": {
            "text/plain": [
              "1.0    947\n",
              "2.0     29\n",
              "Name: num_front_cameras, dtype: int64"
            ]
          },
          "metadata": {},
          "execution_count": 142
        }
      ]
    },
    {
      "cell_type": "code",
      "source": [
        "data[\"num_front_cameras\"] = data[\"num_front_cameras\"].fillna(1)"
      ],
      "metadata": {
        "id": "ShdmIwaeXwdj"
      },
      "execution_count": 143,
      "outputs": []
    },
    {
      "cell_type": "code",
      "source": [
        "data.os.unique()\n"
      ],
      "metadata": {
        "colab": {
          "base_uri": "https://localhost:8080/"
        },
        "id": "NJ-OUzw1XwWZ",
        "outputId": "469f5b02-70cd-45ad-cca8-4e1b208416ae"
      },
      "execution_count": 144,
      "outputs": [
        {
          "output_type": "execute_result",
          "data": {
            "text/plain": [
              "array(['android', 'ios', 'other', nan], dtype=object)"
            ]
          },
          "metadata": {},
          "execution_count": 144
        }
      ]
    },
    {
      "cell_type": "code",
      "source": [
        "data[\"os\"].value_counts()"
      ],
      "metadata": {
        "colab": {
          "base_uri": "https://localhost:8080/"
        },
        "id": "tansChxWYabx",
        "outputId": "4aae3899-d590-4b1b-9ade-2f10bfd8670a"
      },
      "execution_count": 145,
      "outputs": [
        {
          "output_type": "execute_result",
          "data": {
            "text/plain": [
              "android    909\n",
              "ios         46\n",
              "other       11\n",
              "Name: os, dtype: int64"
            ]
          },
          "metadata": {},
          "execution_count": 145
        }
      ]
    },
    {
      "cell_type": "code",
      "source": [
        "data[\"os\"] = data[\"os\"].fillna(\"other\")"
      ],
      "metadata": {
        "id": "XpnYxdtgYjXB"
      },
      "execution_count": 147,
      "outputs": []
    },
    {
      "cell_type": "code",
      "source": [
        "data.primary_camera_front.unique()"
      ],
      "metadata": {
        "colab": {
          "base_uri": "https://localhost:8080/"
        },
        "id": "-mI_Q-wbY2yW",
        "outputId": "cf50a223-79a1-44ab-82ef-413cb41ec1ea"
      },
      "execution_count": 148,
      "outputs": [
        {
          "output_type": "execute_result",
          "data": {
            "text/plain": [
              "array([16. , 13. ,  8. , 12. , 32. ,  5. , 50. , 40. ,  nan, 10. , 60. ,\n",
              "        2. ,  7. , 10.8, 20. , 44. , 11.1,  2.1, 48. ,  0.3, 24. , 25. ,\n",
              "       10.7, 10.1, 12.6])"
            ]
          },
          "metadata": {},
          "execution_count": 148
        }
      ]
    },
    {
      "cell_type": "code",
      "source": [
        "data[\"primary_camera_front\"].value_counts()"
      ],
      "metadata": {
        "id": "FrGStol7Y_2Z"
      },
      "execution_count": null,
      "outputs": []
    },
    {
      "cell_type": "code",
      "source": [
        "data[\"primary_camera_front\"] = data[\"primary_camera_front\"].fillna(data[\"primary_camera_front\"].median())"
      ],
      "metadata": {
        "id": "Np_2LuX9ZHkp"
      },
      "execution_count": 150,
      "outputs": []
    },
    {
      "cell_type": "code",
      "source": [
        "data.extended_upto.unique()"
      ],
      "metadata": {
        "colab": {
          "base_uri": "https://localhost:8080/"
        },
        "id": "nR3kJtsJZQ00",
        "outputId": "1ac65ac0-f237-473e-89de-aa46e3522acf"
      },
      "execution_count": 151,
      "outputs": [
        {
          "output_type": "execute_result",
          "data": {
            "text/plain": [
              "array([  nan, 1024.,  512.,  256., 2048.,  128.,   32.,   64.])"
            ]
          },
          "metadata": {},
          "execution_count": 151
        }
      ]
    },
    {
      "cell_type": "code",
      "source": [
        "data[\"extended_upto\"].value_counts()"
      ],
      "metadata": {
        "colab": {
          "base_uri": "https://localhost:8080/"
        },
        "id": "NllN3c1CZbzo",
        "outputId": "01cb3c44-3cfd-40f6-ff40-02826d26b3dc"
      },
      "execution_count": 152,
      "outputs": [
        {
          "output_type": "execute_result",
          "data": {
            "text/plain": [
              "1024.0    263\n",
              "512.0     116\n",
              "256.0     100\n",
              "128.0       9\n",
              "2048.0      6\n",
              "32.0        3\n",
              "64.0        3\n",
              "Name: extended_upto, dtype: int64"
            ]
          },
          "metadata": {},
          "execution_count": 152
        }
      ]
    },
    {
      "cell_type": "code",
      "source": [
        "data[\"extended_upto\"] = data[\"extended_upto\"].fillna(\"Unknown\") # поскольку боле 50% не заполнены, не корректно брать среднее или медианное значение"
      ],
      "metadata": {
        "id": "E6efiQZJZlAR"
      },
      "execution_count": 153,
      "outputs": []
    },
    {
      "cell_type": "code",
      "source": [
        "data.info()"
      ],
      "metadata": {
        "colab": {
          "base_uri": "https://localhost:8080/"
        },
        "id": "WE5a5dPabit7",
        "outputId": "884e5742-bff7-4d7c-c380-7e6ff5b2ff1e"
      },
      "execution_count": 154,
      "outputs": [
        {
          "output_type": "stream",
          "name": "stdout",
          "text": [
            "<class 'pandas.core.frame.DataFrame'>\n",
            "RangeIndex: 980 entries, 0 to 979\n",
            "Data columns (total 25 columns):\n",
            " #   Column                     Non-Null Count  Dtype  \n",
            "---  ------                     --------------  -----  \n",
            " 0   brand_name                 980 non-null    object \n",
            " 1   model                      980 non-null    object \n",
            " 2   price                      980 non-null    int64  \n",
            " 3   rating                     980 non-null    float64\n",
            " 4   has_5g                     980 non-null    bool   \n",
            " 5   has_nfc                    980 non-null    bool   \n",
            " 6   has_ir_blaster             980 non-null    bool   \n",
            " 7   processor_brand            980 non-null    object \n",
            " 8   num_cores                  980 non-null    float64\n",
            " 9   processor_speed            980 non-null    float64\n",
            " 10  battery_capacity           980 non-null    float64\n",
            " 11  fast_charging_available    980 non-null    int64  \n",
            " 12  fast_charging              980 non-null    float64\n",
            " 13  ram_capacity               980 non-null    float64\n",
            " 14  internal_memory            980 non-null    float64\n",
            " 15  screen_size                980 non-null    float64\n",
            " 16  refresh_rate               980 non-null    int64  \n",
            " 17  resolution                 980 non-null    object \n",
            " 18  num_rear_cameras           980 non-null    int64  \n",
            " 19  num_front_cameras          980 non-null    float64\n",
            " 20  os                         980 non-null    object \n",
            " 21  primary_camera_rear        980 non-null    float64\n",
            " 22  primary_camera_front       980 non-null    float64\n",
            " 23  extended_memory_available  980 non-null    int64  \n",
            " 24  extended_upto              980 non-null    object \n",
            "dtypes: bool(3), float64(11), int64(5), object(6)\n",
            "memory usage: 171.4+ KB\n"
          ]
        }
      ]
    },
    {
      "cell_type": "code",
      "source": [
        "data.describe()"
      ],
      "metadata": {
        "colab": {
          "base_uri": "https://localhost:8080/",
          "height": 320
        },
        "id": "LP4i9EKTbnya",
        "outputId": "795462d0-bf05-4042-b8c3-84b2445d41cd"
      },
      "execution_count": 179,
      "outputs": [
        {
          "output_type": "execute_result",
          "data": {
            "text/plain": [
              "               price      rating   num_cores  processor_speed  \\\n",
              "count     977.000000  977.000000  977.000000       977.000000   \n",
              "mean    31877.282497   78.259041    7.772774         2.428427   \n",
              "std     34297.292124    6.992691    0.835653         0.453512   \n",
              "min      3499.000000   60.000000    4.000000         1.200000   \n",
              "25%     12999.000000   75.000000    8.000000         2.050000   \n",
              "50%     19990.000000   79.000000    8.000000         2.400000   \n",
              "75%     35389.000000   84.000000    8.000000         2.840000   \n",
              "max    480000.000000   89.000000    8.000000         3.220000   \n",
              "\n",
              "       battery_capacity  fast_charging_available  fast_charging  ram_capacity  \\\n",
              "count        977.000000               977.000000     977.000000    977.000000   \n",
              "mean        4788.252815                 0.854657      43.331627      6.557830   \n",
              "std          657.952947                 0.352627      30.878307      2.738797   \n",
              "min         1821.000000                 0.000000      10.000000      1.000000   \n",
              "25%         4500.000000                 1.000000      25.000000      4.000000   \n",
              "50%         5000.000000                 1.000000      33.000000      6.000000   \n",
              "75%         5000.000000                 1.000000      65.000000      8.000000   \n",
              "max         9800.000000                 1.000000     240.000000     18.000000   \n",
              "\n",
              "       internal_memory  screen_size  refresh_rate  num_rear_cameras  \\\n",
              "count       977.000000   977.000000    977.000000        977.000000   \n",
              "mean        140.880246     6.538352     92.293756          2.815763   \n",
              "std         107.144279     0.344626     28.982200          0.775415   \n",
              "min           8.000000     3.540000     60.000000          1.000000   \n",
              "25%          64.000000     6.500000     60.000000          2.000000   \n",
              "50%         128.000000     6.580000     90.000000          3.000000   \n",
              "75%         128.000000     6.670000    120.000000          3.000000   \n",
              "max        1024.000000     8.030000    240.000000          4.000000   \n",
              "\n",
              "       num_front_cameras  primary_camera_rear  primary_camera_front  \\\n",
              "count         977.000000           977.000000            977.000000   \n",
              "mean            1.029683            50.284442             16.585773   \n",
              "std             0.169797            32.975485             10.844601   \n",
              "min             1.000000             2.000000              0.300000   \n",
              "25%             1.000000            24.000000              8.000000   \n",
              "50%             1.000000            50.000000             16.000000   \n",
              "75%             1.000000            64.000000             16.000000   \n",
              "max             2.000000           200.000000             60.000000   \n",
              "\n",
              "       extended_memory_available  \n",
              "count                 977.000000  \n",
              "mean                    0.630502  \n",
              "std                     0.482916  \n",
              "min                     0.000000  \n",
              "25%                     0.000000  \n",
              "50%                     1.000000  \n",
              "75%                     1.000000  \n",
              "max                     1.000000  "
            ],
            "text/html": [
              "\n",
              "  <div id=\"df-1d01400b-0654-4439-b4bc-5ac7fec81dd3\" class=\"colab-df-container\">\n",
              "    <div>\n",
              "<style scoped>\n",
              "    .dataframe tbody tr th:only-of-type {\n",
              "        vertical-align: middle;\n",
              "    }\n",
              "\n",
              "    .dataframe tbody tr th {\n",
              "        vertical-align: top;\n",
              "    }\n",
              "\n",
              "    .dataframe thead th {\n",
              "        text-align: right;\n",
              "    }\n",
              "</style>\n",
              "<table border=\"1\" class=\"dataframe\">\n",
              "  <thead>\n",
              "    <tr style=\"text-align: right;\">\n",
              "      <th></th>\n",
              "      <th>price</th>\n",
              "      <th>rating</th>\n",
              "      <th>num_cores</th>\n",
              "      <th>processor_speed</th>\n",
              "      <th>battery_capacity</th>\n",
              "      <th>fast_charging_available</th>\n",
              "      <th>fast_charging</th>\n",
              "      <th>ram_capacity</th>\n",
              "      <th>internal_memory</th>\n",
              "      <th>screen_size</th>\n",
              "      <th>refresh_rate</th>\n",
              "      <th>num_rear_cameras</th>\n",
              "      <th>num_front_cameras</th>\n",
              "      <th>primary_camera_rear</th>\n",
              "      <th>primary_camera_front</th>\n",
              "      <th>extended_memory_available</th>\n",
              "    </tr>\n",
              "  </thead>\n",
              "  <tbody>\n",
              "    <tr>\n",
              "      <th>count</th>\n",
              "      <td>977.000000</td>\n",
              "      <td>977.000000</td>\n",
              "      <td>977.000000</td>\n",
              "      <td>977.000000</td>\n",
              "      <td>977.000000</td>\n",
              "      <td>977.000000</td>\n",
              "      <td>977.000000</td>\n",
              "      <td>977.000000</td>\n",
              "      <td>977.000000</td>\n",
              "      <td>977.000000</td>\n",
              "      <td>977.000000</td>\n",
              "      <td>977.000000</td>\n",
              "      <td>977.000000</td>\n",
              "      <td>977.000000</td>\n",
              "      <td>977.000000</td>\n",
              "      <td>977.000000</td>\n",
              "    </tr>\n",
              "    <tr>\n",
              "      <th>mean</th>\n",
              "      <td>31877.282497</td>\n",
              "      <td>78.259041</td>\n",
              "      <td>7.772774</td>\n",
              "      <td>2.428427</td>\n",
              "      <td>4788.252815</td>\n",
              "      <td>0.854657</td>\n",
              "      <td>43.331627</td>\n",
              "      <td>6.557830</td>\n",
              "      <td>140.880246</td>\n",
              "      <td>6.538352</td>\n",
              "      <td>92.293756</td>\n",
              "      <td>2.815763</td>\n",
              "      <td>1.029683</td>\n",
              "      <td>50.284442</td>\n",
              "      <td>16.585773</td>\n",
              "      <td>0.630502</td>\n",
              "    </tr>\n",
              "    <tr>\n",
              "      <th>std</th>\n",
              "      <td>34297.292124</td>\n",
              "      <td>6.992691</td>\n",
              "      <td>0.835653</td>\n",
              "      <td>0.453512</td>\n",
              "      <td>657.952947</td>\n",
              "      <td>0.352627</td>\n",
              "      <td>30.878307</td>\n",
              "      <td>2.738797</td>\n",
              "      <td>107.144279</td>\n",
              "      <td>0.344626</td>\n",
              "      <td>28.982200</td>\n",
              "      <td>0.775415</td>\n",
              "      <td>0.169797</td>\n",
              "      <td>32.975485</td>\n",
              "      <td>10.844601</td>\n",
              "      <td>0.482916</td>\n",
              "    </tr>\n",
              "    <tr>\n",
              "      <th>min</th>\n",
              "      <td>3499.000000</td>\n",
              "      <td>60.000000</td>\n",
              "      <td>4.000000</td>\n",
              "      <td>1.200000</td>\n",
              "      <td>1821.000000</td>\n",
              "      <td>0.000000</td>\n",
              "      <td>10.000000</td>\n",
              "      <td>1.000000</td>\n",
              "      <td>8.000000</td>\n",
              "      <td>3.540000</td>\n",
              "      <td>60.000000</td>\n",
              "      <td>1.000000</td>\n",
              "      <td>1.000000</td>\n",
              "      <td>2.000000</td>\n",
              "      <td>0.300000</td>\n",
              "      <td>0.000000</td>\n",
              "    </tr>\n",
              "    <tr>\n",
              "      <th>25%</th>\n",
              "      <td>12999.000000</td>\n",
              "      <td>75.000000</td>\n",
              "      <td>8.000000</td>\n",
              "      <td>2.050000</td>\n",
              "      <td>4500.000000</td>\n",
              "      <td>1.000000</td>\n",
              "      <td>25.000000</td>\n",
              "      <td>4.000000</td>\n",
              "      <td>64.000000</td>\n",
              "      <td>6.500000</td>\n",
              "      <td>60.000000</td>\n",
              "      <td>2.000000</td>\n",
              "      <td>1.000000</td>\n",
              "      <td>24.000000</td>\n",
              "      <td>8.000000</td>\n",
              "      <td>0.000000</td>\n",
              "    </tr>\n",
              "    <tr>\n",
              "      <th>50%</th>\n",
              "      <td>19990.000000</td>\n",
              "      <td>79.000000</td>\n",
              "      <td>8.000000</td>\n",
              "      <td>2.400000</td>\n",
              "      <td>5000.000000</td>\n",
              "      <td>1.000000</td>\n",
              "      <td>33.000000</td>\n",
              "      <td>6.000000</td>\n",
              "      <td>128.000000</td>\n",
              "      <td>6.580000</td>\n",
              "      <td>90.000000</td>\n",
              "      <td>3.000000</td>\n",
              "      <td>1.000000</td>\n",
              "      <td>50.000000</td>\n",
              "      <td>16.000000</td>\n",
              "      <td>1.000000</td>\n",
              "    </tr>\n",
              "    <tr>\n",
              "      <th>75%</th>\n",
              "      <td>35389.000000</td>\n",
              "      <td>84.000000</td>\n",
              "      <td>8.000000</td>\n",
              "      <td>2.840000</td>\n",
              "      <td>5000.000000</td>\n",
              "      <td>1.000000</td>\n",
              "      <td>65.000000</td>\n",
              "      <td>8.000000</td>\n",
              "      <td>128.000000</td>\n",
              "      <td>6.670000</td>\n",
              "      <td>120.000000</td>\n",
              "      <td>3.000000</td>\n",
              "      <td>1.000000</td>\n",
              "      <td>64.000000</td>\n",
              "      <td>16.000000</td>\n",
              "      <td>1.000000</td>\n",
              "    </tr>\n",
              "    <tr>\n",
              "      <th>max</th>\n",
              "      <td>480000.000000</td>\n",
              "      <td>89.000000</td>\n",
              "      <td>8.000000</td>\n",
              "      <td>3.220000</td>\n",
              "      <td>9800.000000</td>\n",
              "      <td>1.000000</td>\n",
              "      <td>240.000000</td>\n",
              "      <td>18.000000</td>\n",
              "      <td>1024.000000</td>\n",
              "      <td>8.030000</td>\n",
              "      <td>240.000000</td>\n",
              "      <td>4.000000</td>\n",
              "      <td>2.000000</td>\n",
              "      <td>200.000000</td>\n",
              "      <td>60.000000</td>\n",
              "      <td>1.000000</td>\n",
              "    </tr>\n",
              "  </tbody>\n",
              "</table>\n",
              "</div>\n",
              "    <div class=\"colab-df-buttons\">\n",
              "\n",
              "  <div class=\"colab-df-container\">\n",
              "    <button class=\"colab-df-convert\" onclick=\"convertToInteractive('df-1d01400b-0654-4439-b4bc-5ac7fec81dd3')\"\n",
              "            title=\"Convert this dataframe to an interactive table.\"\n",
              "            style=\"display:none;\">\n",
              "\n",
              "  <svg xmlns=\"http://www.w3.org/2000/svg\" height=\"24px\" viewBox=\"0 -960 960 960\">\n",
              "    <path d=\"M120-120v-720h720v720H120Zm60-500h600v-160H180v160Zm220 220h160v-160H400v160Zm0 220h160v-160H400v160ZM180-400h160v-160H180v160Zm440 0h160v-160H620v160ZM180-180h160v-160H180v160Zm440 0h160v-160H620v160Z\"/>\n",
              "  </svg>\n",
              "    </button>\n",
              "\n",
              "  <style>\n",
              "    .colab-df-container {\n",
              "      display:flex;\n",
              "      gap: 12px;\n",
              "    }\n",
              "\n",
              "    .colab-df-convert {\n",
              "      background-color: #E8F0FE;\n",
              "      border: none;\n",
              "      border-radius: 50%;\n",
              "      cursor: pointer;\n",
              "      display: none;\n",
              "      fill: #1967D2;\n",
              "      height: 32px;\n",
              "      padding: 0 0 0 0;\n",
              "      width: 32px;\n",
              "    }\n",
              "\n",
              "    .colab-df-convert:hover {\n",
              "      background-color: #E2EBFA;\n",
              "      box-shadow: 0px 1px 2px rgba(60, 64, 67, 0.3), 0px 1px 3px 1px rgba(60, 64, 67, 0.15);\n",
              "      fill: #174EA6;\n",
              "    }\n",
              "\n",
              "    .colab-df-buttons div {\n",
              "      margin-bottom: 4px;\n",
              "    }\n",
              "\n",
              "    [theme=dark] .colab-df-convert {\n",
              "      background-color: #3B4455;\n",
              "      fill: #D2E3FC;\n",
              "    }\n",
              "\n",
              "    [theme=dark] .colab-df-convert:hover {\n",
              "      background-color: #434B5C;\n",
              "      box-shadow: 0px 1px 3px 1px rgba(0, 0, 0, 0.15);\n",
              "      filter: drop-shadow(0px 1px 2px rgba(0, 0, 0, 0.3));\n",
              "      fill: #FFFFFF;\n",
              "    }\n",
              "  </style>\n",
              "\n",
              "    <script>\n",
              "      const buttonEl =\n",
              "        document.querySelector('#df-1d01400b-0654-4439-b4bc-5ac7fec81dd3 button.colab-df-convert');\n",
              "      buttonEl.style.display =\n",
              "        google.colab.kernel.accessAllowed ? 'block' : 'none';\n",
              "\n",
              "      async function convertToInteractive(key) {\n",
              "        const element = document.querySelector('#df-1d01400b-0654-4439-b4bc-5ac7fec81dd3');\n",
              "        const dataTable =\n",
              "          await google.colab.kernel.invokeFunction('convertToInteractive',\n",
              "                                                    [key], {});\n",
              "        if (!dataTable) return;\n",
              "\n",
              "        const docLinkHtml = 'Like what you see? Visit the ' +\n",
              "          '<a target=\"_blank\" href=https://colab.research.google.com/notebooks/data_table.ipynb>data table notebook</a>'\n",
              "          + ' to learn more about interactive tables.';\n",
              "        element.innerHTML = '';\n",
              "        dataTable['output_type'] = 'display_data';\n",
              "        await google.colab.output.renderOutput(dataTable, element);\n",
              "        const docLink = document.createElement('div');\n",
              "        docLink.innerHTML = docLinkHtml;\n",
              "        element.appendChild(docLink);\n",
              "      }\n",
              "    </script>\n",
              "  </div>\n",
              "\n",
              "\n",
              "<div id=\"df-1104c60c-feed-4b82-a241-0f42107171b3\">\n",
              "  <button class=\"colab-df-quickchart\" onclick=\"quickchart('df-1104c60c-feed-4b82-a241-0f42107171b3')\"\n",
              "            title=\"Suggest charts.\"\n",
              "            style=\"display:none;\">\n",
              "\n",
              "<svg xmlns=\"http://www.w3.org/2000/svg\" height=\"24px\"viewBox=\"0 0 24 24\"\n",
              "     width=\"24px\">\n",
              "    <g>\n",
              "        <path d=\"M19 3H5c-1.1 0-2 .9-2 2v14c0 1.1.9 2 2 2h14c1.1 0 2-.9 2-2V5c0-1.1-.9-2-2-2zM9 17H7v-7h2v7zm4 0h-2V7h2v10zm4 0h-2v-4h2v4z\"/>\n",
              "    </g>\n",
              "</svg>\n",
              "  </button>\n",
              "\n",
              "<style>\n",
              "  .colab-df-quickchart {\n",
              "      --bg-color: #E8F0FE;\n",
              "      --fill-color: #1967D2;\n",
              "      --hover-bg-color: #E2EBFA;\n",
              "      --hover-fill-color: #174EA6;\n",
              "      --disabled-fill-color: #AAA;\n",
              "      --disabled-bg-color: #DDD;\n",
              "  }\n",
              "\n",
              "  [theme=dark] .colab-df-quickchart {\n",
              "      --bg-color: #3B4455;\n",
              "      --fill-color: #D2E3FC;\n",
              "      --hover-bg-color: #434B5C;\n",
              "      --hover-fill-color: #FFFFFF;\n",
              "      --disabled-bg-color: #3B4455;\n",
              "      --disabled-fill-color: #666;\n",
              "  }\n",
              "\n",
              "  .colab-df-quickchart {\n",
              "    background-color: var(--bg-color);\n",
              "    border: none;\n",
              "    border-radius: 50%;\n",
              "    cursor: pointer;\n",
              "    display: none;\n",
              "    fill: var(--fill-color);\n",
              "    height: 32px;\n",
              "    padding: 0;\n",
              "    width: 32px;\n",
              "  }\n",
              "\n",
              "  .colab-df-quickchart:hover {\n",
              "    background-color: var(--hover-bg-color);\n",
              "    box-shadow: 0 1px 2px rgba(60, 64, 67, 0.3), 0 1px 3px 1px rgba(60, 64, 67, 0.15);\n",
              "    fill: var(--button-hover-fill-color);\n",
              "  }\n",
              "\n",
              "  .colab-df-quickchart-complete:disabled,\n",
              "  .colab-df-quickchart-complete:disabled:hover {\n",
              "    background-color: var(--disabled-bg-color);\n",
              "    fill: var(--disabled-fill-color);\n",
              "    box-shadow: none;\n",
              "  }\n",
              "\n",
              "  .colab-df-spinner {\n",
              "    border: 2px solid var(--fill-color);\n",
              "    border-color: transparent;\n",
              "    border-bottom-color: var(--fill-color);\n",
              "    animation:\n",
              "      spin 1s steps(1) infinite;\n",
              "  }\n",
              "\n",
              "  @keyframes spin {\n",
              "    0% {\n",
              "      border-color: transparent;\n",
              "      border-bottom-color: var(--fill-color);\n",
              "      border-left-color: var(--fill-color);\n",
              "    }\n",
              "    20% {\n",
              "      border-color: transparent;\n",
              "      border-left-color: var(--fill-color);\n",
              "      border-top-color: var(--fill-color);\n",
              "    }\n",
              "    30% {\n",
              "      border-color: transparent;\n",
              "      border-left-color: var(--fill-color);\n",
              "      border-top-color: var(--fill-color);\n",
              "      border-right-color: var(--fill-color);\n",
              "    }\n",
              "    40% {\n",
              "      border-color: transparent;\n",
              "      border-right-color: var(--fill-color);\n",
              "      border-top-color: var(--fill-color);\n",
              "    }\n",
              "    60% {\n",
              "      border-color: transparent;\n",
              "      border-right-color: var(--fill-color);\n",
              "    }\n",
              "    80% {\n",
              "      border-color: transparent;\n",
              "      border-right-color: var(--fill-color);\n",
              "      border-bottom-color: var(--fill-color);\n",
              "    }\n",
              "    90% {\n",
              "      border-color: transparent;\n",
              "      border-bottom-color: var(--fill-color);\n",
              "    }\n",
              "  }\n",
              "</style>\n",
              "\n",
              "  <script>\n",
              "    async function quickchart(key) {\n",
              "      const quickchartButtonEl =\n",
              "        document.querySelector('#' + key + ' button');\n",
              "      quickchartButtonEl.disabled = true;  // To prevent multiple clicks.\n",
              "      quickchartButtonEl.classList.add('colab-df-spinner');\n",
              "      try {\n",
              "        const charts = await google.colab.kernel.invokeFunction(\n",
              "            'suggestCharts', [key], {});\n",
              "      } catch (error) {\n",
              "        console.error('Error during call to suggestCharts:', error);\n",
              "      }\n",
              "      quickchartButtonEl.classList.remove('colab-df-spinner');\n",
              "      quickchartButtonEl.classList.add('colab-df-quickchart-complete');\n",
              "    }\n",
              "    (() => {\n",
              "      let quickchartButtonEl =\n",
              "        document.querySelector('#df-1104c60c-feed-4b82-a241-0f42107171b3 button');\n",
              "      quickchartButtonEl.style.display =\n",
              "        google.colab.kernel.accessAllowed ? 'block' : 'none';\n",
              "    })();\n",
              "  </script>\n",
              "</div>\n",
              "    </div>\n",
              "  </div>\n"
            ]
          },
          "metadata": {},
          "execution_count": 179
        }
      ]
    },
    {
      "cell_type": "markdown",
      "source": [
        "**Поиск и обработка выбросов и аномалий.**"
      ],
      "metadata": {
        "id": "XtqqJzOzb1Vr"
      }
    },
    {
      "cell_type": "code",
      "source": [
        "len(data.loc[data['price'] > 600000]) # выброс по стоимости телефона."
      ],
      "metadata": {
        "colab": {
          "base_uri": "https://localhost:8080/"
        },
        "id": "2g9FvEJsdw2h",
        "outputId": "b7c0c414-a8e0-4282-b1ae-ad4d6ce0ad2f"
      },
      "execution_count": 170,
      "outputs": [
        {
          "output_type": "execute_result",
          "data": {
            "text/plain": [
              "1"
            ]
          },
          "metadata": {},
          "execution_count": 170
        }
      ]
    },
    {
      "cell_type": "code",
      "source": [
        "len(data.loc[data['battery_capacity'] > 20000]) # выброс по емкости батареи"
      ],
      "metadata": {
        "colab": {
          "base_uri": "https://localhost:8080/"
        },
        "id": "vaPJLIxkekWY",
        "outputId": "a464fcd0-e78f-4e8f-f025-f67d24031ea3"
      },
      "execution_count": 175,
      "outputs": [
        {
          "output_type": "execute_result",
          "data": {
            "text/plain": [
              "2"
            ]
          },
          "metadata": {},
          "execution_count": 175
        }
      ]
    },
    {
      "cell_type": "code",
      "source": [
        "data = data.loc[data['price'] < 600000]"
      ],
      "metadata": {
        "id": "4vfIrygOfcbZ"
      },
      "execution_count": 177,
      "outputs": []
    },
    {
      "cell_type": "code",
      "source": [
        "data = data.loc[data['battery_capacity'] < 20000]"
      ],
      "metadata": {
        "id": "RXMOdn2Dfl7Z"
      },
      "execution_count": 178,
      "outputs": []
    },
    {
      "cell_type": "markdown",
      "source": [
        "**Применение группировки и агрегирующих функций**"
      ],
      "metadata": {
        "id": "w7c501QHf2mC"
      }
    },
    {
      "cell_type": "code",
      "source": [
        "data.groupby(\"brand_name\")[\"price\"].mean().sort_values() # средняя цена бреднов телефонов"
      ],
      "metadata": {
        "colab": {
          "base_uri": "https://localhost:8080/"
        },
        "id": "1zHd1Szqf6Vy",
        "outputId": "98cc8520-01d2-4695-bf4e-270967b113dc"
      },
      "execution_count": 182,
      "outputs": [
        {
          "output_type": "execute_result",
          "data": {
            "text/plain": [
              "brand_name\n",
              "lyf            3940.000000\n",
              "itel           5811.000000\n",
              "letv           6165.666667\n",
              "gionee         6896.000000\n",
              "micromax       6929.333333\n",
              "jio            7159.250000\n",
              "ikall          7632.333333\n",
              "blackview      8990.000000\n",
              "tcl            8990.000000\n",
              "duoqin         9990.000000\n",
              "leeco         10999.000000\n",
              "lava          11246.750000\n",
              "tecno         14545.363636\n",
              "infinix       14664.793103\n",
              "blu           14990.000000\n",
              "cola          14999.000000\n",
              "cat           14999.000000\n",
              "doogee        14999.000000\n",
              "redmi         15665.666667\n",
              "realme        17461.422680\n",
              "poco          18479.195122\n",
              "motorola      24099.923077\n",
              "oukitel       24444.500000\n",
              "nokia         24630.769231\n",
              "vivo          26782.387387\n",
              "xiaomi        27961.111940\n",
              "oppo          29650.034091\n",
              "honor         30301.846154\n",
              "iqoo          30301.875000\n",
              "nothing       31195.400000\n",
              "oneplus       35858.571429\n",
              "samsung       36843.030303\n",
              "zte           40994.500000\n",
              "google        44332.571429\n",
              "nubia         49827.833333\n",
              "lenovo        53494.500000\n",
              "sharp         59990.000000\n",
              "sony          60570.666667\n",
              "lg            63329.333333\n",
              "tesla         69999.000000\n",
              "asus          74709.428571\n",
              "huawei        80177.250000\n",
              "apple         95966.521739\n",
              "leitz        124990.000000\n",
              "royole       129999.000000\n",
              "Name: price, dtype: float64"
            ]
          },
          "metadata": {},
          "execution_count": 182
        }
      ]
    },
    {
      "cell_type": "code",
      "source": [
        "data.groupby(\"os\")[\"price\"].max().sort_values() # максимальная цена яблок и не яблок"
      ],
      "metadata": {
        "colab": {
          "base_uri": "https://localhost:8080/"
        },
        "id": "hGSo6EklhRrJ",
        "outputId": "d1841a20-ce6c-4855-dfae-7e9578dd1187"
      },
      "execution_count": 181,
      "outputs": [
        {
          "output_type": "execute_result",
          "data": {
            "text/plain": [
              "os\n",
              "ios        182999\n",
              "other      239999\n",
              "android    480000\n",
              "Name: price, dtype: int64"
            ]
          },
          "metadata": {},
          "execution_count": 181
        }
      ]
    }
  ]
}